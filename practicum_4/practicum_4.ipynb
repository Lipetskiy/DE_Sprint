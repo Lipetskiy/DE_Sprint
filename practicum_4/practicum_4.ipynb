{
 "cells": [
  {
   "cell_type": "markdown",
   "metadata": {},
   "source": [
    "# Практическая работа №4"
   ]
  },
  {
   "cell_type": "markdown",
   "metadata": {},
   "source": [
    "## Импорт библиотек"
   ]
  },
  {
   "cell_type": "code",
   "execution_count": null,
   "metadata": {},
   "outputs": [],
   "source": [
    "import json\n",
    "import pandas as pd\n",
    "import numpy as np"
   ]
  },
  {
   "cell_type": "markdown",
   "metadata": {},
   "source": [
    "## Предварительный анализ данных"
   ]
  },
  {
   "cell_type": "markdown",
   "metadata": {},
   "source": [
    "В видео к практической работе был представлен более сложный и времязатратный способ формирования датафрейма. Я не стал множить сущности и воспользовался вариантом ниже, т.к. формировать датафреймы вручную и писать циклы умею. Если Вы сочтете, что я \"читер\", то могу обработать json циклами и сформировать таблицу также как это было показано в видео :)"
   ]
  },
  {
   "cell_type": "code",
   "execution_count": null,
   "metadata": {},
   "outputs": [],
   "source": [
    "with open('parsed.json', 'r') as file:\n",
    "    data = json.load(file)"
   ]
  },
  {
   "cell_type": "code",
   "execution_count": null,
   "metadata": {},
   "outputs": [],
   "source": [
    "with open('parsed_2.json', 'w', encoding='utf8') as file_2:\n",
    "    json.dump(data['data'], file_2, ensure_ascii=False, indent=4, sort_keys=False)"
   ]
  },
  {
   "cell_type": "code",
   "execution_count": null,
   "metadata": {},
   "outputs": [],
   "source": [
    "df = pd.read_json('parsed_2.json')"
   ]
  },
  {
   "cell_type": "code",
   "execution_count": null,
   "metadata": {},
   "outputs": [],
   "source": [
    "df"
   ]
  },
  {
   "cell_type": "code",
   "execution_count": null,
   "metadata": {},
   "outputs": [],
   "source": [
    "# Запишем датасет в csv-таблицу\n",
    "df.to_csv('parsed.csv', index=False)"
   ]
  },
  {
   "cell_type": "code",
   "execution_count": null,
   "metadata": {},
   "outputs": [],
   "source": [
    "# Откроем наш датасет из уже записанного csv-файла\n",
    "df = pd.read_csv('parsed.csv')"
   ]
  },
  {
   "cell_type": "code",
   "execution_count": null,
   "metadata": {},
   "outputs": [],
   "source": [
    "df"
   ]
  },
  {
   "cell_type": "code",
   "execution_count": null,
   "metadata": {},
   "outputs": [],
   "source": [
    "df.info()"
   ]
  },
  {
   "cell_type": "code",
   "execution_count": null,
   "metadata": {},
   "outputs": [],
   "source": [
    "# Посчитаем количество уникальных вакансий\n",
    "title_unique = df['title'].unique()\n",
    "title_unique.shape"
   ]
  },
  {
   "cell_type": "code",
   "execution_count": null,
   "metadata": {},
   "outputs": [],
   "source": [
    "ds_title_list = [i for i in df['title'] if 'Data Science' in str(i) \n",
    "     or 'data science' in str(i) \n",
    "     or 'Data science' in str(i) \n",
    "     or 'data Science' in str(i)\n",
    "     or 'Data-Science' in str(i) \n",
    "     or 'data-science' in str(i) \n",
    "     or 'Data-science' in str(i) \n",
    "     or 'data-Science' in str(i)]\n",
    "print(ds_title_list)\n",
    "\n",
    "de_names = ['Data engeener', 'data engeener', 'Data Engeener', 'data Engeener', \n",
    "            'Data engeenering', 'data engeenering', 'Data Engeenering', 'data Engeenering',\n",
    "            'Инженер данных', 'инженер данных', 'инженер Данных', 'Инженер Данных',\n",
    "            'Инженер больших данных', 'инженер больших данных', 'инженер Больших Данных', 'Инженер Больших Данных',\n",
    "            'Инженер Больших данных', 'инженер Больших данных', 'инженер больших Данных', 'Инженер больших Данных',\n",
    "            'дата-инженер', 'Дата-инженер', 'Дата-Инженер', 'Data-engeener', 'data-engeener', 'Data-Engeener', 'data-Engeener']\n",
    "de_title_list = []\n",
    "for v in de_names:\n",
    "     for i in range(len(title_unique)):\n",
    "          if v in str(title_unique[i]):\n",
    "               i_number = df.loc[df['title'] == title_unique[i]].index\n",
    "               de_title_list.append(i_number[0])\n",
    "               #de_title_list.append(df.loc[df['title'] == title_unique[i]].index)\n",
    "print(de_title_list)\n"
   ]
  },
  {
   "cell_type": "code",
   "execution_count": null,
   "metadata": {},
   "outputs": [],
   "source": [
    "g = df.loc[df['title'] == 'Руководитель Data Science'].index"
   ]
  },
  {
   "cell_type": "code",
   "execution_count": null,
   "metadata": {},
   "outputs": [],
   "source": [
    "df.loc[de_title_list]"
   ]
  },
  {
   "cell_type": "code",
   "execution_count": 76,
   "metadata": {},
   "outputs": [],
   "source": [
    "df = df.apply(salary_to_num, axis=1)"
   ]
  },
  {
   "cell_type": "code",
   "execution_count": 77,
   "metadata": {},
   "outputs": [],
   "source": [
    "df = df.apply(exp_to_num, axis=1)"
   ]
  },
  {
   "cell_type": "code",
   "execution_count": 67,
   "metadata": {},
   "outputs": [],
   "source": [
    "def salary_to_num(row):\n",
    "    number_1 = []\n",
    "    number_2 = []\n",
    "    last_symbol = 'start'\n",
    "    m = ''\n",
    "    val = row['salary']\n",
    "    salary = str(row['salary']).replace(' ', '')\n",
    "    salary = list(''.join(salary))\n",
    "    salary_min = row['salary_min']\n",
    "    salary_max = row['salary_max']\n",
    "    \n",
    "    for i in salary:\n",
    "        if m.isnumeric() == True and i.isnumeric() == False:\n",
    "            last_symbol = 'next'\n",
    "        if last_symbol == 'start':\n",
    "            if i.isnumeric() == True:\n",
    "                number_1.append(i)\n",
    "        elif last_symbol == 'next':\n",
    "            if i.isnumeric() == True:\n",
    "                number_2.append(i)\n",
    "        m = i\n",
    "    \n",
    "    try:\n",
    "        number_1 = int(''.join(number_1))\n",
    "    except:\n",
    "        number_1 = 0\n",
    "    try:\n",
    "        number_2 = int(''.join(number_2))\n",
    "    except:\n",
    "        number_2 = 0\n",
    "    \n",
    "    if (number_1 != 0 and number_2 != 0) or (number_1 != '' and number_2 != ''):\n",
    "        row.loc['salary_min'] = number_1\n",
    "        row.loc['salary_max'] = number_2\n",
    "    elif (number_1 != 0 and number_2 == 0) or (number_1 != '' and number_2 == ''):\n",
    "        row.loc['salary_min'] = 0\n",
    "        row.loc['salary_max'] = number_1\n",
    "    else:\n",
    "        row.loc['salary_min'] = 0\n",
    "        row.loc['salary_max'] = 0\n",
    "    row.loc['salary'] = val\n",
    "    return row\n"
   ]
  },
  {
   "cell_type": "code",
   "execution_count": 75,
   "metadata": {},
   "outputs": [],
   "source": [
    "def exp_to_num(row):\n",
    "    number_1 = []\n",
    "    number_2 = []\n",
    "    last_symbol = 'start'\n",
    "    m = ''\n",
    "    val = row['work experience']\n",
    "    exp = str(row['work experience']).replace(' ', '')\n",
    "    exp = list(''.join(exp))\n",
    "    exp_min = row['exp_min']\n",
    "    exp_max = row['exp_max']\n",
    "    \n",
    "    for i in exp:\n",
    "        if m.isnumeric() == True and i.isnumeric() == False:\n",
    "            last_symbol = 'next'\n",
    "        if last_symbol == 'start':\n",
    "            if i.isnumeric() == True:\n",
    "                number_1.append(i)\n",
    "        elif last_symbol == 'next':\n",
    "            if i.isnumeric() == True:\n",
    "                number_2.append(i)\n",
    "        m = i\n",
    "    \n",
    "    try:\n",
    "        number_1 = int(''.join(number_1))\n",
    "    except:\n",
    "        number_1 = 0\n",
    "    try:\n",
    "        number_2 = int(''.join(number_2))\n",
    "    except:\n",
    "        number_2 = 0\n",
    "    \n",
    "    if (number_1 != 0 and number_2 != 0) or (number_1 != '' and number_2 != ''):\n",
    "        row.loc['exp_min'] = number_1\n",
    "        row.loc['exp_max'] = number_2\n",
    "    elif (number_1 != 0 and number_2 == 0) or (number_1 != '' and number_2 == ''):\n",
    "        row.loc['exp_min'] = 0\n",
    "        row.loc['exp_max'] = number_1\n",
    "    else:\n",
    "        row.loc['exp_min'] = 0\n",
    "        row.loc['exp_max'] = 0\n",
    "    row.loc['work experience'] = val\n",
    "    return row"
   ]
  },
  {
   "cell_type": "code",
   "execution_count": 73,
   "metadata": {},
   "outputs": [],
   "source": [
    "df = pd.read_csv('parsed.csv')\n",
    "df['salary_min'] = 0\n",
    "df['salary_max'] = 0\n",
    "df['exp_min'] = 0\n",
    "df['exp_max'] = 0"
   ]
  },
  {
   "cell_type": "code",
   "execution_count": 78,
   "metadata": {},
   "outputs": [
    {
     "data": {
      "text/html": [
       "<div>\n",
       "<style scoped>\n",
       "    .dataframe tbody tr th:only-of-type {\n",
       "        vertical-align: middle;\n",
       "    }\n",
       "\n",
       "    .dataframe tbody tr th {\n",
       "        vertical-align: top;\n",
       "    }\n",
       "\n",
       "    .dataframe thead th {\n",
       "        text-align: right;\n",
       "    }\n",
       "</style>\n",
       "<table border=\"1\" class=\"dataframe\">\n",
       "  <thead>\n",
       "    <tr style=\"text-align: right;\">\n",
       "      <th></th>\n",
       "      <th>title</th>\n",
       "      <th>work experience</th>\n",
       "      <th>salary</th>\n",
       "      <th>region</th>\n",
       "      <th>salary_min</th>\n",
       "      <th>salary_max</th>\n",
       "      <th>exp_min</th>\n",
       "      <th>exp_max</th>\n",
       "    </tr>\n",
       "  </thead>\n",
       "  <tbody>\n",
       "    <tr>\n",
       "      <th>0</th>\n",
       "      <td>Python Разработчик</td>\n",
       "      <td>1–3 года</td>\n",
       "      <td>от 200 000 до 1 500 000 KZT на руки</td>\n",
       "      <td>Астана</td>\n",
       "      <td>200000</td>\n",
       "      <td>1500000</td>\n",
       "      <td>1</td>\n",
       "      <td>3</td>\n",
       "    </tr>\n",
       "    <tr>\n",
       "      <th>1</th>\n",
       "      <td>Full-stack Python Developer</td>\n",
       "      <td>3–6 лет</td>\n",
       "      <td>от 4 500 до 5 000 EUR до вычета налогов</td>\n",
       "      <td>Астана</td>\n",
       "      <td>4500</td>\n",
       "      <td>5000</td>\n",
       "      <td>3</td>\n",
       "      <td>6</td>\n",
       "    </tr>\n",
       "    <tr>\n",
       "      <th>2</th>\n",
       "      <td>Junior разработчик/программист в Python</td>\n",
       "      <td>не требуется</td>\n",
       "      <td>от 150 000 до 200 000 KZT до вычета налогов</td>\n",
       "      <td>Нур-Султан (Астана)</td>\n",
       "      <td>150000</td>\n",
       "      <td>200000</td>\n",
       "      <td>0</td>\n",
       "      <td>0</td>\n",
       "    </tr>\n",
       "    <tr>\n",
       "      <th>3</th>\n",
       "      <td>Python Developer (Middle/Senior)</td>\n",
       "      <td>3–6 лет</td>\n",
       "      <td>от 2 000 до 4 000 USD на руки</td>\n",
       "      <td>Алматы</td>\n",
       "      <td>2000</td>\n",
       "      <td>4000</td>\n",
       "      <td>3</td>\n",
       "      <td>6</td>\n",
       "    </tr>\n",
       "    <tr>\n",
       "      <th>4</th>\n",
       "      <td>Backend разработчик</td>\n",
       "      <td>1–3 года</td>\n",
       "      <td>з/п не указана</td>\n",
       "      <td>Астана</td>\n",
       "      <td>0</td>\n",
       "      <td>0</td>\n",
       "      <td>1</td>\n",
       "      <td>3</td>\n",
       "    </tr>\n",
       "    <tr>\n",
       "      <th>...</th>\n",
       "      <td>...</td>\n",
       "      <td>...</td>\n",
       "      <td>...</td>\n",
       "      <td>...</td>\n",
       "      <td>...</td>\n",
       "      <td>...</td>\n",
       "      <td>...</td>\n",
       "      <td>...</td>\n",
       "    </tr>\n",
       "    <tr>\n",
       "      <th>4279</th>\n",
       "      <td>Специалист службы поддержки с техническими зна...</td>\n",
       "      <td>не требуется</td>\n",
       "      <td>от 15 000 до 40 000 руб. на руки</td>\n",
       "      <td>Ижевск</td>\n",
       "      <td>15000</td>\n",
       "      <td>40000</td>\n",
       "      <td>0</td>\n",
       "      <td>0</td>\n",
       "    </tr>\n",
       "    <tr>\n",
       "      <th>4280</th>\n",
       "      <td>Web-разработчик junior</td>\n",
       "      <td>не требуется</td>\n",
       "      <td>до 70 000 руб. на руки</td>\n",
       "      <td>Санкт-Петербург</td>\n",
       "      <td>70000</td>\n",
       "      <td>0</td>\n",
       "      <td>0</td>\n",
       "      <td>0</td>\n",
       "    </tr>\n",
       "    <tr>\n",
       "      <th>4281</th>\n",
       "      <td>Web-разработчик</td>\n",
       "      <td>не требуется</td>\n",
       "      <td>з/п не указана</td>\n",
       "      <td>Нижний Новгород</td>\n",
       "      <td>0</td>\n",
       "      <td>0</td>\n",
       "      <td>0</td>\n",
       "      <td>0</td>\n",
       "    </tr>\n",
       "    <tr>\n",
       "      <th>4282</th>\n",
       "      <td>Младший аналитик (IT)</td>\n",
       "      <td>не требуется</td>\n",
       "      <td>от 100 000 до 130 000 руб. на руки</td>\n",
       "      <td>Москва</td>\n",
       "      <td>100000</td>\n",
       "      <td>130000</td>\n",
       "      <td>0</td>\n",
       "      <td>0</td>\n",
       "    </tr>\n",
       "    <tr>\n",
       "      <th>4283</th>\n",
       "      <td>Программист PHP Junior</td>\n",
       "      <td>не требуется</td>\n",
       "      <td>от 60 000 до 80 000 руб. на руки</td>\n",
       "      <td>Севастополь</td>\n",
       "      <td>60000</td>\n",
       "      <td>80000</td>\n",
       "      <td>0</td>\n",
       "      <td>0</td>\n",
       "    </tr>\n",
       "  </tbody>\n",
       "</table>\n",
       "<p>4284 rows × 8 columns</p>\n",
       "</div>"
      ],
      "text/plain": [
       "                                                  title work experience  \\\n",
       "0                                    Python Разработчик        1–3 года   \n",
       "1                           Full-stack Python Developer         3–6 лет   \n",
       "2               Junior разработчик/программист в Python    не требуется   \n",
       "3                      Python Developer (Middle/Senior)         3–6 лет   \n",
       "4                                   Backend разработчик        1–3 года   \n",
       "...                                                 ...             ...   \n",
       "4279  Специалист службы поддержки с техническими зна...    не требуется   \n",
       "4280                             Web-разработчик junior    не требуется   \n",
       "4281                                    Web-разработчик    не требуется   \n",
       "4282                              Младший аналитик (IT)    не требуется   \n",
       "4283                             Программист PHP Junior    не требуется   \n",
       "\n",
       "                                           salary               region  \\\n",
       "0             от 200 000 до 1 500 000 KZT на руки               Астана   \n",
       "1         от 4 500 до 5 000 EUR до вычета налогов               Астана   \n",
       "2     от 150 000 до 200 000 KZT до вычета налогов  Нур-Султан (Астана)   \n",
       "3                   от 2 000 до 4 000 USD на руки               Алматы   \n",
       "4                                  з/п не указана               Астана   \n",
       "...                                           ...                  ...   \n",
       "4279             от 15 000 до 40 000 руб. на руки               Ижевск   \n",
       "4280                       до 70 000 руб. на руки      Санкт-Петербург   \n",
       "4281                               з/п не указана      Нижний Новгород   \n",
       "4282           от 100 000 до 130 000 руб. на руки               Москва   \n",
       "4283             от 60 000 до 80 000 руб. на руки          Севастополь   \n",
       "\n",
       "      salary_min  salary_max  exp_min  exp_max  \n",
       "0         200000     1500000        1        3  \n",
       "1           4500        5000        3        6  \n",
       "2         150000      200000        0        0  \n",
       "3           2000        4000        3        6  \n",
       "4              0           0        1        3  \n",
       "...          ...         ...      ...      ...  \n",
       "4279       15000       40000        0        0  \n",
       "4280       70000           0        0        0  \n",
       "4281           0           0        0        0  \n",
       "4282      100000      130000        0        0  \n",
       "4283       60000       80000        0        0  \n",
       "\n",
       "[4284 rows x 8 columns]"
      ]
     },
     "execution_count": 78,
     "metadata": {},
     "output_type": "execute_result"
    }
   ],
   "source": [
    "df"
   ]
  },
  {
   "cell_type": "code",
   "execution_count": null,
   "metadata": {},
   "outputs": [],
   "source": []
  },
  {
   "cell_type": "code",
   "execution_count": null,
   "metadata": {},
   "outputs": [],
   "source": []
  }
 ],
 "metadata": {
  "kernelspec": {
   "display_name": "Python 3.9.12 ('base')",
   "language": "python",
   "name": "python3"
  },
  "language_info": {
   "codemirror_mode": {
    "name": "ipython",
    "version": 3
   },
   "file_extension": ".py",
   "mimetype": "text/x-python",
   "name": "python",
   "nbconvert_exporter": "python",
   "pygments_lexer": "ipython3",
   "version": "3.9.12"
  },
  "orig_nbformat": 4,
  "vscode": {
   "interpreter": {
    "hash": "d70e16a2347e8a9918903bf02469e7c5e466ed9041e3df84fa7172a15d610167"
   }
  }
 },
 "nbformat": 4,
 "nbformat_minor": 2
}
