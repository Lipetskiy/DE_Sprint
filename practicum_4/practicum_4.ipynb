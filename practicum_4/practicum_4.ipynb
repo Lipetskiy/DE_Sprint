{
 "cells": [
  {
   "cell_type": "markdown",
   "metadata": {},
   "source": [
    "# Практическая работа №4"
   ]
  },
  {
   "cell_type": "markdown",
   "metadata": {},
   "source": [
    "## Импорт библиотек"
   ]
  },
  {
   "cell_type": "code",
   "execution_count": 3,
   "metadata": {},
   "outputs": [],
   "source": [
    "import json\n",
    "import pandas as pd\n",
    "import numpy as np\n",
    "import warnings\n",
    "warnings.filterwarnings(\"ignore\")"
   ]
  },
  {
   "cell_type": "markdown",
   "metadata": {},
   "source": [
    "## Подготовка датасета"
   ]
  },
  {
   "cell_type": "markdown",
   "metadata": {},
   "source": [
    "В видео к практической работе был представлен более сложный и времязатратный способ формирования датафрейма. Я не стал множить сущности и воспользовался вариантом ниже, т.к. формировать датафреймы вручную и писать циклы умею. Если Вы сочтете, что я \"читер\", то могу обработать json циклами и сформировать таблицу также как это было показано в видео :)"
   ]
  },
  {
   "cell_type": "code",
   "execution_count": null,
   "metadata": {},
   "outputs": [],
   "source": [
    "# Открываем json\n",
    "with open('parsed.json', 'r', encoding='utf8') as file:\n",
    "    data = json.load(file)"
   ]
  },
  {
   "cell_type": "code",
   "execution_count": null,
   "metadata": {},
   "outputs": [],
   "source": [
    "# Превращаем его в DataFrame\n",
    "df = pd.DataFrame(data['data'])\n",
    "df"
   ]
  },
  {
   "cell_type": "code",
   "execution_count": null,
   "metadata": {},
   "outputs": [],
   "source": [
    "# Подкорректируем названия колонок\n",
    "df.columns = ['title', 'work_experience', 'salary', 'region']"
   ]
  },
  {
   "cell_type": "code",
   "execution_count": null,
   "metadata": {},
   "outputs": [],
   "source": [
    "# Запишем датасет в csv-таблицу\n",
    "df.to_csv('parsed_hh.csv', index=False)"
   ]
  },
  {
   "cell_type": "markdown",
   "metadata": {},
   "source": [
    "## Исследовательский анализ, подготовка и предобработка данных"
   ]
  },
  {
   "cell_type": "code",
   "execution_count": 90,
   "metadata": {},
   "outputs": [
    {
     "data": {
      "text/html": [
       "<div>\n",
       "<style scoped>\n",
       "    .dataframe tbody tr th:only-of-type {\n",
       "        vertical-align: middle;\n",
       "    }\n",
       "\n",
       "    .dataframe tbody tr th {\n",
       "        vertical-align: top;\n",
       "    }\n",
       "\n",
       "    .dataframe thead th {\n",
       "        text-align: right;\n",
       "    }\n",
       "</style>\n",
       "<table border=\"1\" class=\"dataframe\">\n",
       "  <thead>\n",
       "    <tr style=\"text-align: right;\">\n",
       "      <th></th>\n",
       "      <th>title</th>\n",
       "      <th>work_experience</th>\n",
       "      <th>salary</th>\n",
       "      <th>region</th>\n",
       "    </tr>\n",
       "  </thead>\n",
       "  <tbody>\n",
       "    <tr>\n",
       "      <th>0</th>\n",
       "      <td>Python Разработчик</td>\n",
       "      <td>1–3 года</td>\n",
       "      <td>от 200 000 до 1 500 000 KZT на руки</td>\n",
       "      <td>Астана</td>\n",
       "    </tr>\n",
       "    <tr>\n",
       "      <th>1</th>\n",
       "      <td>Full-stack Python Developer</td>\n",
       "      <td>3–6 лет</td>\n",
       "      <td>от 4 500 до 5 000 EUR до вычета налогов</td>\n",
       "      <td>Астана</td>\n",
       "    </tr>\n",
       "    <tr>\n",
       "      <th>2</th>\n",
       "      <td>Junior разработчик/программист в Python</td>\n",
       "      <td>не требуется</td>\n",
       "      <td>от 150 000 до 200 000 KZT до вычета налогов</td>\n",
       "      <td>Нур-Султан (Астана)</td>\n",
       "    </tr>\n",
       "    <tr>\n",
       "      <th>3</th>\n",
       "      <td>Python Developer (Middle/Senior)</td>\n",
       "      <td>3–6 лет</td>\n",
       "      <td>от 2 000 до 4 000 USD на руки</td>\n",
       "      <td>Алматы</td>\n",
       "    </tr>\n",
       "    <tr>\n",
       "      <th>4</th>\n",
       "      <td>Backend разработчик</td>\n",
       "      <td>1–3 года</td>\n",
       "      <td>з/п не указана</td>\n",
       "      <td>Астана</td>\n",
       "    </tr>\n",
       "    <tr>\n",
       "      <th>...</th>\n",
       "      <td>...</td>\n",
       "      <td>...</td>\n",
       "      <td>...</td>\n",
       "      <td>...</td>\n",
       "    </tr>\n",
       "    <tr>\n",
       "      <th>4279</th>\n",
       "      <td>Специалист службы поддержки с техническими зна...</td>\n",
       "      <td>не требуется</td>\n",
       "      <td>от 15 000 до 40 000 руб. на руки</td>\n",
       "      <td>Ижевск</td>\n",
       "    </tr>\n",
       "    <tr>\n",
       "      <th>4280</th>\n",
       "      <td>Web-разработчик junior</td>\n",
       "      <td>не требуется</td>\n",
       "      <td>до 70 000 руб. на руки</td>\n",
       "      <td>Санкт-Петербург</td>\n",
       "    </tr>\n",
       "    <tr>\n",
       "      <th>4281</th>\n",
       "      <td>Web-разработчик</td>\n",
       "      <td>не требуется</td>\n",
       "      <td>з/п не указана</td>\n",
       "      <td>Нижний Новгород</td>\n",
       "    </tr>\n",
       "    <tr>\n",
       "      <th>4282</th>\n",
       "      <td>Младший аналитик (IT)</td>\n",
       "      <td>не требуется</td>\n",
       "      <td>от 100 000 до 130 000 руб. на руки</td>\n",
       "      <td>Москва</td>\n",
       "    </tr>\n",
       "    <tr>\n",
       "      <th>4283</th>\n",
       "      <td>Программист PHP Junior</td>\n",
       "      <td>не требуется</td>\n",
       "      <td>от 60 000 до 80 000 руб. на руки</td>\n",
       "      <td>Севастополь</td>\n",
       "    </tr>\n",
       "  </tbody>\n",
       "</table>\n",
       "<p>4284 rows × 4 columns</p>\n",
       "</div>"
      ],
      "text/plain": [
       "                                                  title work_experience  \\\n",
       "0                                    Python Разработчик        1–3 года   \n",
       "1                           Full-stack Python Developer         3–6 лет   \n",
       "2               Junior разработчик/программист в Python    не требуется   \n",
       "3                      Python Developer (Middle/Senior)         3–6 лет   \n",
       "4                                   Backend разработчик        1–3 года   \n",
       "...                                                 ...             ...   \n",
       "4279  Специалист службы поддержки с техническими зна...    не требуется   \n",
       "4280                             Web-разработчик junior    не требуется   \n",
       "4281                                    Web-разработчик    не требуется   \n",
       "4282                              Младший аналитик (IT)    не требуется   \n",
       "4283                             Программист PHP Junior    не требуется   \n",
       "\n",
       "                                           salary               region  \n",
       "0             от 200 000 до 1 500 000 KZT на руки               Астана  \n",
       "1         от 4 500 до 5 000 EUR до вычета налогов               Астана  \n",
       "2     от 150 000 до 200 000 KZT до вычета налогов  Нур-Султан (Астана)  \n",
       "3                   от 2 000 до 4 000 USD на руки               Алматы  \n",
       "4                                  з/п не указана               Астана  \n",
       "...                                           ...                  ...  \n",
       "4279             от 15 000 до 40 000 руб. на руки               Ижевск  \n",
       "4280                       до 70 000 руб. на руки      Санкт-Петербург  \n",
       "4281                               з/п не указана      Нижний Новгород  \n",
       "4282           от 100 000 до 130 000 руб. на руки               Москва  \n",
       "4283             от 60 000 до 80 000 руб. на руки          Севастополь  \n",
       "\n",
       "[4284 rows x 4 columns]"
      ]
     },
     "execution_count": 90,
     "metadata": {},
     "output_type": "execute_result"
    }
   ],
   "source": [
    "# Откроем наш датасет из уже записанного csv-файла\n",
    "df = pd.read_csv('parsed_hh.csv')\n",
    "df"
   ]
  },
  {
   "cell_type": "code",
   "execution_count": 91,
   "metadata": {},
   "outputs": [
    {
     "name": "stdout",
     "output_type": "stream",
     "text": [
      "<class 'pandas.core.frame.DataFrame'>\n",
      "RangeIndex: 4284 entries, 0 to 4283\n",
      "Data columns (total 4 columns):\n",
      " #   Column           Non-Null Count  Dtype \n",
      "---  ------           --------------  ----- \n",
      " 0   title            4283 non-null   object\n",
      " 1   work_experience  4284 non-null   object\n",
      " 2   salary           4284 non-null   object\n",
      " 3   region           4284 non-null   object\n",
      "dtypes: object(4)\n",
      "memory usage: 67.0+ KB\n"
     ]
    }
   ],
   "source": [
    "# Выведем общую информацию о датасете\n",
    "df.info()"
   ]
  },
  {
   "cell_type": "markdown",
   "metadata": {},
   "source": [
    "Далее значения из столбцов `salary` и `work_experience` переведем в числовой формат.  \n",
    "Так как многие зарплаты и опыт указаны в виде диапазона добавим дополнительные стобцы в датасет (пока с пустыми ячейками), в которые в дальнейшем запишем минимальное значение из диапазона и максимальное значение."
   ]
  },
  {
   "cell_type": "code",
   "execution_count": 92,
   "metadata": {},
   "outputs": [],
   "source": [
    "# Добавляем новые столбцы\n",
    "df['salary_min'] = np.nan\n",
    "df['salary_max'] = np.nan\n",
    "df['exp_min'] = np.nan\n",
    "df['exp_max'] = np.nan"
   ]
  },
  {
   "cell_type": "markdown",
   "metadata": {},
   "source": [
    "Для того, чтобы выделить числовые значения из текста напишем две функции для одной строки, которые позже применим к датасету методом `apply()`. \n",
    "\n",
    "- `salary_to_num` - переведет данные о зарплате в числа;\n",
    "- `exp_to_num` - переведет данные о требуемом опыте в числа."
   ]
  },
  {
   "cell_type": "code",
   "execution_count": 93,
   "metadata": {},
   "outputs": [],
   "source": [
    "def salary_to_num(row):\n",
    "    number_1 = []\n",
    "    number_2 = []\n",
    "    last_symbol = 'start'\n",
    "    m = ''\n",
    "    val = row['salary']\n",
    "    salary = str(row['salary']).replace(' ', '')\n",
    "    salary = list(''.join(salary))\n",
    "    salary_min = row['salary_min']\n",
    "    salary_max = row['salary_max']\n",
    "    \n",
    "    for i in salary:\n",
    "        if m.isnumeric() == True and i.isnumeric() == False:\n",
    "            last_symbol = 'next'\n",
    "        if last_symbol == 'start':\n",
    "            if i.isnumeric() == True:\n",
    "                number_1.append(i)\n",
    "        elif last_symbol == 'next':\n",
    "            if i.isnumeric() == True:\n",
    "                number_2.append(i)\n",
    "        m = i\n",
    "    \n",
    "    try:\n",
    "        number_1 = int(''.join(number_1))\n",
    "    except:\n",
    "        number_1 = 0\n",
    "    try:\n",
    "        number_2 = int(''.join(number_2))\n",
    "    except:\n",
    "        number_2 = 0\n",
    "    \n",
    "    if number_1 != 0 and number_2 != 0:\n",
    "        row.loc['salary_min'] = number_1\n",
    "        row.loc['salary_max'] = number_2\n",
    "    elif number_1 != 0 and number_2 == 0:\n",
    "        row.loc['salary_min'] = 0\n",
    "        row.loc['salary_max'] = number_1\n",
    "    else:\n",
    "        row.loc['salary_min'] = 0\n",
    "        row.loc['salary_max'] = 0\n",
    "        \n",
    "    row.loc['salary'] = val\n",
    "    \n",
    "    return row\n"
   ]
  },
  {
   "cell_type": "code",
   "execution_count": 94,
   "metadata": {},
   "outputs": [],
   "source": [
    "def exp_to_num(row):\n",
    "    number_1 = []\n",
    "    number_2 = []\n",
    "    last_symbol = 'start'\n",
    "    m = ''\n",
    "    val = row['work_experience']\n",
    "    exp = str(row['work_experience']).replace(' ', '')\n",
    "    exp = list(''.join(exp))\n",
    "    exp_min = row['exp_min']\n",
    "    exp_max = row['exp_max']\n",
    "    \n",
    "    for i in exp:\n",
    "        if m.isnumeric() == True and i.isnumeric() == False:\n",
    "            last_symbol = 'next'\n",
    "        if last_symbol == 'start':\n",
    "            if i.isnumeric() == True:\n",
    "                number_1.append(i)\n",
    "        elif last_symbol == 'next':\n",
    "            if i.isnumeric() == True:\n",
    "                number_2.append(i)\n",
    "        m = i\n",
    "    \n",
    "    try:\n",
    "        number_1 = int(''.join(number_1))\n",
    "    except:\n",
    "        number_1 = 0\n",
    "    try:\n",
    "        number_2 = int(''.join(number_2))\n",
    "    except:\n",
    "        number_2 = 0\n",
    "    \n",
    "    if (number_1 != 0 and number_2 != 0) or (number_1 != '' and number_2 != ''):\n",
    "        row.loc['exp_min'] = number_1\n",
    "        row.loc['exp_max'] = number_2\n",
    "    elif (number_1 != 0 and number_2 == 0) or (number_1 != '' and number_2 == ''):\n",
    "        row.loc['exp_min'] = 0\n",
    "        row.loc['exp_max'] = number_1\n",
    "    else:\n",
    "        row.loc['exp_min'] = 0\n",
    "        row.loc['exp_max'] = 0\n",
    "        \n",
    "    row.loc['work_experience'] = val\n",
    "    \n",
    "    return row"
   ]
  },
  {
   "cell_type": "code",
   "execution_count": 95,
   "metadata": {},
   "outputs": [],
   "source": [
    "# Применим функции к датасету\n",
    "df = df.apply(salary_to_num, axis=1)\n",
    "df = df.apply(exp_to_num, axis=1)"
   ]
  },
  {
   "cell_type": "code",
   "execution_count": 96,
   "metadata": {},
   "outputs": [
    {
     "data": {
      "text/html": [
       "<div>\n",
       "<style scoped>\n",
       "    .dataframe tbody tr th:only-of-type {\n",
       "        vertical-align: middle;\n",
       "    }\n",
       "\n",
       "    .dataframe tbody tr th {\n",
       "        vertical-align: top;\n",
       "    }\n",
       "\n",
       "    .dataframe thead th {\n",
       "        text-align: right;\n",
       "    }\n",
       "</style>\n",
       "<table border=\"1\" class=\"dataframe\">\n",
       "  <thead>\n",
       "    <tr style=\"text-align: right;\">\n",
       "      <th></th>\n",
       "      <th>title</th>\n",
       "      <th>work_experience</th>\n",
       "      <th>salary</th>\n",
       "      <th>region</th>\n",
       "      <th>salary_min</th>\n",
       "      <th>salary_max</th>\n",
       "      <th>exp_min</th>\n",
       "      <th>exp_max</th>\n",
       "    </tr>\n",
       "  </thead>\n",
       "  <tbody>\n",
       "    <tr>\n",
       "      <th>0</th>\n",
       "      <td>Python Разработчик</td>\n",
       "      <td>1–3 года</td>\n",
       "      <td>от 200 000 до 1 500 000 KZT на руки</td>\n",
       "      <td>Астана</td>\n",
       "      <td>200000</td>\n",
       "      <td>1500000</td>\n",
       "      <td>1</td>\n",
       "      <td>3</td>\n",
       "    </tr>\n",
       "    <tr>\n",
       "      <th>1</th>\n",
       "      <td>Full-stack Python Developer</td>\n",
       "      <td>3–6 лет</td>\n",
       "      <td>от 4 500 до 5 000 EUR до вычета налогов</td>\n",
       "      <td>Астана</td>\n",
       "      <td>4500</td>\n",
       "      <td>5000</td>\n",
       "      <td>3</td>\n",
       "      <td>6</td>\n",
       "    </tr>\n",
       "    <tr>\n",
       "      <th>2</th>\n",
       "      <td>Junior разработчик/программист в Python</td>\n",
       "      <td>не требуется</td>\n",
       "      <td>от 150 000 до 200 000 KZT до вычета налогов</td>\n",
       "      <td>Нур-Султан (Астана)</td>\n",
       "      <td>150000</td>\n",
       "      <td>200000</td>\n",
       "      <td>0</td>\n",
       "      <td>0</td>\n",
       "    </tr>\n",
       "    <tr>\n",
       "      <th>3</th>\n",
       "      <td>Python Developer (Middle/Senior)</td>\n",
       "      <td>3–6 лет</td>\n",
       "      <td>от 2 000 до 4 000 USD на руки</td>\n",
       "      <td>Алматы</td>\n",
       "      <td>2000</td>\n",
       "      <td>4000</td>\n",
       "      <td>3</td>\n",
       "      <td>6</td>\n",
       "    </tr>\n",
       "    <tr>\n",
       "      <th>4</th>\n",
       "      <td>Backend разработчик</td>\n",
       "      <td>1–3 года</td>\n",
       "      <td>з/п не указана</td>\n",
       "      <td>Астана</td>\n",
       "      <td>0</td>\n",
       "      <td>0</td>\n",
       "      <td>1</td>\n",
       "      <td>3</td>\n",
       "    </tr>\n",
       "    <tr>\n",
       "      <th>...</th>\n",
       "      <td>...</td>\n",
       "      <td>...</td>\n",
       "      <td>...</td>\n",
       "      <td>...</td>\n",
       "      <td>...</td>\n",
       "      <td>...</td>\n",
       "      <td>...</td>\n",
       "      <td>...</td>\n",
       "    </tr>\n",
       "    <tr>\n",
       "      <th>4279</th>\n",
       "      <td>Специалист службы поддержки с техническими зна...</td>\n",
       "      <td>не требуется</td>\n",
       "      <td>от 15 000 до 40 000 руб. на руки</td>\n",
       "      <td>Ижевск</td>\n",
       "      <td>15000</td>\n",
       "      <td>40000</td>\n",
       "      <td>0</td>\n",
       "      <td>0</td>\n",
       "    </tr>\n",
       "    <tr>\n",
       "      <th>4280</th>\n",
       "      <td>Web-разработчик junior</td>\n",
       "      <td>не требуется</td>\n",
       "      <td>до 70 000 руб. на руки</td>\n",
       "      <td>Санкт-Петербург</td>\n",
       "      <td>0</td>\n",
       "      <td>70000</td>\n",
       "      <td>0</td>\n",
       "      <td>0</td>\n",
       "    </tr>\n",
       "    <tr>\n",
       "      <th>4281</th>\n",
       "      <td>Web-разработчик</td>\n",
       "      <td>не требуется</td>\n",
       "      <td>з/п не указана</td>\n",
       "      <td>Нижний Новгород</td>\n",
       "      <td>0</td>\n",
       "      <td>0</td>\n",
       "      <td>0</td>\n",
       "      <td>0</td>\n",
       "    </tr>\n",
       "    <tr>\n",
       "      <th>4282</th>\n",
       "      <td>Младший аналитик (IT)</td>\n",
       "      <td>не требуется</td>\n",
       "      <td>от 100 000 до 130 000 руб. на руки</td>\n",
       "      <td>Москва</td>\n",
       "      <td>100000</td>\n",
       "      <td>130000</td>\n",
       "      <td>0</td>\n",
       "      <td>0</td>\n",
       "    </tr>\n",
       "    <tr>\n",
       "      <th>4283</th>\n",
       "      <td>Программист PHP Junior</td>\n",
       "      <td>не требуется</td>\n",
       "      <td>от 60 000 до 80 000 руб. на руки</td>\n",
       "      <td>Севастополь</td>\n",
       "      <td>60000</td>\n",
       "      <td>80000</td>\n",
       "      <td>0</td>\n",
       "      <td>0</td>\n",
       "    </tr>\n",
       "  </tbody>\n",
       "</table>\n",
       "<p>4284 rows × 8 columns</p>\n",
       "</div>"
      ],
      "text/plain": [
       "                                                  title work_experience  \\\n",
       "0                                    Python Разработчик        1–3 года   \n",
       "1                           Full-stack Python Developer         3–6 лет   \n",
       "2               Junior разработчик/программист в Python    не требуется   \n",
       "3                      Python Developer (Middle/Senior)         3–6 лет   \n",
       "4                                   Backend разработчик        1–3 года   \n",
       "...                                                 ...             ...   \n",
       "4279  Специалист службы поддержки с техническими зна...    не требуется   \n",
       "4280                             Web-разработчик junior    не требуется   \n",
       "4281                                    Web-разработчик    не требуется   \n",
       "4282                              Младший аналитик (IT)    не требуется   \n",
       "4283                             Программист PHP Junior    не требуется   \n",
       "\n",
       "                                           salary               region  \\\n",
       "0             от 200 000 до 1 500 000 KZT на руки               Астана   \n",
       "1         от 4 500 до 5 000 EUR до вычета налогов               Астана   \n",
       "2     от 150 000 до 200 000 KZT до вычета налогов  Нур-Султан (Астана)   \n",
       "3                   от 2 000 до 4 000 USD на руки               Алматы   \n",
       "4                                  з/п не указана               Астана   \n",
       "...                                           ...                  ...   \n",
       "4279             от 15 000 до 40 000 руб. на руки               Ижевск   \n",
       "4280                       до 70 000 руб. на руки      Санкт-Петербург   \n",
       "4281                               з/п не указана      Нижний Новгород   \n",
       "4282           от 100 000 до 130 000 руб. на руки               Москва   \n",
       "4283             от 60 000 до 80 000 руб. на руки          Севастополь   \n",
       "\n",
       "      salary_min  salary_max  exp_min  exp_max  \n",
       "0         200000     1500000        1        3  \n",
       "1           4500        5000        3        6  \n",
       "2         150000      200000        0        0  \n",
       "3           2000        4000        3        6  \n",
       "4              0           0        1        3  \n",
       "...          ...         ...      ...      ...  \n",
       "4279       15000       40000        0        0  \n",
       "4280           0       70000        0        0  \n",
       "4281           0           0        0        0  \n",
       "4282      100000      130000        0        0  \n",
       "4283       60000       80000        0        0  \n",
       "\n",
       "[4284 rows x 8 columns]"
      ]
     },
     "execution_count": 96,
     "metadata": {},
     "output_type": "execute_result"
    }
   ],
   "source": [
    "df"
   ]
  },
  {
   "cell_type": "markdown",
   "metadata": {},
   "source": [
    "Проверим датасет на пропуски"
   ]
  },
  {
   "cell_type": "code",
   "execution_count": 97,
   "metadata": {},
   "outputs": [
    {
     "data": {
      "text/plain": [
       "title              1\n",
       "work_experience    0\n",
       "salary             0\n",
       "region             0\n",
       "salary_min         0\n",
       "salary_max         0\n",
       "exp_min            0\n",
       "exp_max            0\n",
       "dtype: int64"
      ]
     },
     "execution_count": 97,
     "metadata": {},
     "output_type": "execute_result"
    }
   ],
   "source": [
    "df.isna().sum()"
   ]
  },
  {
   "cell_type": "markdown",
   "metadata": {},
   "source": [
    "Есть один пропуск. Выведем строку с ним на экран"
   ]
  },
  {
   "cell_type": "code",
   "execution_count": 98,
   "metadata": {},
   "outputs": [
    {
     "data": {
      "text/html": [
       "<div>\n",
       "<style scoped>\n",
       "    .dataframe tbody tr th:only-of-type {\n",
       "        vertical-align: middle;\n",
       "    }\n",
       "\n",
       "    .dataframe tbody tr th {\n",
       "        vertical-align: top;\n",
       "    }\n",
       "\n",
       "    .dataframe thead th {\n",
       "        text-align: right;\n",
       "    }\n",
       "</style>\n",
       "<table border=\"1\" class=\"dataframe\">\n",
       "  <thead>\n",
       "    <tr style=\"text-align: right;\">\n",
       "      <th></th>\n",
       "      <th>title</th>\n",
       "      <th>work_experience</th>\n",
       "      <th>salary</th>\n",
       "      <th>region</th>\n",
       "      <th>salary_min</th>\n",
       "      <th>salary_max</th>\n",
       "      <th>exp_min</th>\n",
       "      <th>exp_max</th>\n",
       "    </tr>\n",
       "  </thead>\n",
       "  <tbody>\n",
       "    <tr>\n",
       "      <th>47</th>\n",
       "      <td>NaN</td>\n",
       "      <td>undefinite</td>\n",
       "      <td>undefinite</td>\n",
       "      <td>undefinite</td>\n",
       "      <td>0</td>\n",
       "      <td>0</td>\n",
       "      <td>0</td>\n",
       "      <td>0</td>\n",
       "    </tr>\n",
       "  </tbody>\n",
       "</table>\n",
       "</div>"
      ],
      "text/plain": [
       "   title work_experience      salary      region  salary_min  salary_max  \\\n",
       "47   NaN      undefinite  undefinite  undefinite           0           0   \n",
       "\n",
       "    exp_min  exp_max  \n",
       "47        0        0  "
      ]
     },
     "execution_count": 98,
     "metadata": {},
     "output_type": "execute_result"
    }
   ],
   "source": [
    "df[df['title'].isna()]"
   ]
  },
  {
   "cell_type": "markdown",
   "metadata": {},
   "source": [
    "Данные с пропуском не имеют ценности, поэтому удалим их."
   ]
  },
  {
   "cell_type": "code",
   "execution_count": 99,
   "metadata": {},
   "outputs": [],
   "source": [
    "df.dropna(inplace=True)"
   ]
  },
  {
   "cell_type": "code",
   "execution_count": 100,
   "metadata": {},
   "outputs": [
    {
     "data": {
      "text/plain": [
       "title              0\n",
       "work_experience    0\n",
       "salary             0\n",
       "region             0\n",
       "salary_min         0\n",
       "salary_max         0\n",
       "exp_min            0\n",
       "exp_max            0\n",
       "dtype: int64"
      ]
     },
     "execution_count": 100,
     "metadata": {},
     "output_type": "execute_result"
    }
   ],
   "source": [
    "df.isna().sum()"
   ]
  },
  {
   "cell_type": "markdown",
   "metadata": {},
   "source": [
    "Проверим строки, в которых может встречаться значение 'undefinite'."
   ]
  },
  {
   "cell_type": "code",
   "execution_count": 101,
   "metadata": {},
   "outputs": [
    {
     "data": {
      "text/plain": [
       "[235, 742, 1333, 1694, 3285, 3294, 3525]"
      ]
     },
     "execution_count": 101,
     "metadata": {},
     "output_type": "execute_result"
    }
   ],
   "source": [
    "columns_list = df.columns\n",
    "wrong_list = []\n",
    "for column in columns_list:\n",
    "    if len(df[df[column]=='undefinite']) > 0:\n",
    "        for i in df[df[column]=='undefinite'].index:\n",
    "            if i not in wrong_list:\n",
    "                wrong_list.append(i)\n",
    "wrong_list"
   ]
  },
  {
   "cell_type": "markdown",
   "metadata": {},
   "source": [
    "Таких строк 7. Выведем их на экран."
   ]
  },
  {
   "cell_type": "code",
   "execution_count": 102,
   "metadata": {},
   "outputs": [
    {
     "data": {
      "text/html": [
       "<div>\n",
       "<style scoped>\n",
       "    .dataframe tbody tr th:only-of-type {\n",
       "        vertical-align: middle;\n",
       "    }\n",
       "\n",
       "    .dataframe tbody tr th {\n",
       "        vertical-align: top;\n",
       "    }\n",
       "\n",
       "    .dataframe thead th {\n",
       "        text-align: right;\n",
       "    }\n",
       "</style>\n",
       "<table border=\"1\" class=\"dataframe\">\n",
       "  <thead>\n",
       "    <tr style=\"text-align: right;\">\n",
       "      <th></th>\n",
       "      <th>title</th>\n",
       "      <th>work_experience</th>\n",
       "      <th>salary</th>\n",
       "      <th>region</th>\n",
       "      <th>salary_min</th>\n",
       "      <th>salary_max</th>\n",
       "      <th>exp_min</th>\n",
       "      <th>exp_max</th>\n",
       "    </tr>\n",
       "  </thead>\n",
       "  <tbody>\n",
       "    <tr>\n",
       "      <th>235</th>\n",
       "      <td>undefinite</td>\n",
       "      <td>undefinite</td>\n",
       "      <td>RocketData</td>\n",
       "      <td>Минск</td>\n",
       "      <td>0</td>\n",
       "      <td>0</td>\n",
       "      <td>0</td>\n",
       "      <td>0</td>\n",
       "    </tr>\n",
       "    <tr>\n",
       "      <th>742</th>\n",
       "      <td>undefinite</td>\n",
       "      <td>undefinite</td>\n",
       "      <td>Ventra</td>\n",
       "      <td>Москва</td>\n",
       "      <td>0</td>\n",
       "      <td>0</td>\n",
       "      <td>0</td>\n",
       "      <td>0</td>\n",
       "    </tr>\n",
       "    <tr>\n",
       "      <th>1333</th>\n",
       "      <td>undefinite</td>\n",
       "      <td>undefinite</td>\n",
       "      <td>Leads</td>\n",
       "      <td>Москва</td>\n",
       "      <td>0</td>\n",
       "      <td>0</td>\n",
       "      <td>0</td>\n",
       "      <td>0</td>\n",
       "    </tr>\n",
       "    <tr>\n",
       "      <th>1694</th>\n",
       "      <td>undefinite</td>\n",
       "      <td>undefinite</td>\n",
       "      <td>ООО Защищенные Телекоммуникации</td>\n",
       "      <td>Тула</td>\n",
       "      <td>0</td>\n",
       "      <td>0</td>\n",
       "      <td>0</td>\n",
       "      <td>0</td>\n",
       "    </tr>\n",
       "    <tr>\n",
       "      <th>3285</th>\n",
       "      <td>undefinite</td>\n",
       "      <td>undefinite</td>\n",
       "      <td>ООО Лаборатория Наносемантика</td>\n",
       "      <td>Москва</td>\n",
       "      <td>0</td>\n",
       "      <td>0</td>\n",
       "      <td>0</td>\n",
       "      <td>0</td>\n",
       "    </tr>\n",
       "    <tr>\n",
       "      <th>3294</th>\n",
       "      <td>undefinite</td>\n",
       "      <td>undefinite</td>\n",
       "      <td>КОНТРОЛ лизинг</td>\n",
       "      <td>Москва</td>\n",
       "      <td>0</td>\n",
       "      <td>0</td>\n",
       "      <td>0</td>\n",
       "      <td>0</td>\n",
       "    </tr>\n",
       "    <tr>\n",
       "      <th>3525</th>\n",
       "      <td>undefinite</td>\n",
       "      <td>undefinite</td>\n",
       "      <td>Группа компаний «БПЦ»</td>\n",
       "      <td>Москва</td>\n",
       "      <td>0</td>\n",
       "      <td>0</td>\n",
       "      <td>0</td>\n",
       "      <td>0</td>\n",
       "    </tr>\n",
       "  </tbody>\n",
       "</table>\n",
       "</div>"
      ],
      "text/plain": [
       "           title work_experience                           salary  region  \\\n",
       "235   undefinite      undefinite                       RocketData   Минск   \n",
       "742   undefinite      undefinite                           Ventra  Москва   \n",
       "1333  undefinite      undefinite                            Leads  Москва   \n",
       "1694  undefinite      undefinite  ООО Защищенные Телекоммуникации    Тула   \n",
       "3285  undefinite      undefinite    ООО Лаборатория Наносемантика  Москва   \n",
       "3294  undefinite      undefinite                   КОНТРОЛ лизинг  Москва   \n",
       "3525  undefinite      undefinite            Группа компаний «БПЦ»  Москва   \n",
       "\n",
       "      salary_min  salary_max  exp_min  exp_max  \n",
       "235            0           0        0        0  \n",
       "742            0           0        0        0  \n",
       "1333           0           0        0        0  \n",
       "1694           0           0        0        0  \n",
       "3285           0           0        0        0  \n",
       "3294           0           0        0        0  \n",
       "3525           0           0        0        0  "
      ]
     },
     "execution_count": 102,
     "metadata": {},
     "output_type": "execute_result"
    }
   ],
   "source": [
    "df.loc[wrong_list]"
   ]
  },
  {
   "cell_type": "markdown",
   "metadata": {},
   "source": [
    "Данные были собраны неверно. Удалим их, т.к. восстановить информацию возможности нет, данных мало и от них не будет пользы."
   ]
  },
  {
   "cell_type": "code",
   "execution_count": 103,
   "metadata": {},
   "outputs": [],
   "source": [
    "df.drop(index=wrong_list, axis=1, inplace=True)"
   ]
  },
  {
   "cell_type": "code",
   "execution_count": 104,
   "metadata": {},
   "outputs": [
    {
     "data": {
      "text/plain": [
       "4276"
      ]
     },
     "execution_count": 104,
     "metadata": {},
     "output_type": "execute_result"
    }
   ],
   "source": [
    "df.shape[0]"
   ]
  },
  {
   "cell_type": "markdown",
   "metadata": {},
   "source": [
    "Строки успешно удалены."
   ]
  },
  {
   "cell_type": "markdown",
   "metadata": {},
   "source": [
    "В датасете есть много данных о зарплате указанных в следующем виде: 'до 70 000 руб. на руки'.\n",
    "При таком указании заработной платы нам известно только максимальное вознаграждение, а на месте минимального установлен 0, что является некорректным.\n",
    "Попробуем сгладить эти неточности и восполнить нули.\n",
    "Ноль можно было бы заменить на значение МРОТ, но у нас в регионах присутствуют города из разных государств, поэтому такой вариант не подходит.\n",
    "Восполним нули в 2 шага.\n",
    "\n",
    "**ШАГ 1:**\n",
    "  - Отфильтровываем датасет по региону и записываем в переменную `filtered_region`;\n",
    "  - В полученной таблице находим строки, в которых указана минимальная и максимальная зарплата и записываем их в переменную `filtered_salary`;\n",
    "  - Также в датасете `filtered_region` ищем строки, в которых указаны только максимальная зарплата, а минимальная равна нулю;\n",
    "  - Берем строку, где есть данные о максимальной зарплате, а минимальная нулевая. Далее фильтруем датасет по значению найд енной максимальной з/п. Полученный на выходе датасет используем для расчета медианной минимальной зарплаты.\n",
    "  - Ноль заменяем на полученное значение медианы. Таким образом заполняем все возможные нули, а там где это не возможно возвращаем в ячейку прежнее значение. Проделываем эту операцию в цикле.\n",
    "\n",
    "**ШАГ 2:**\n",
    "  - К этому шагу переходим для восполнения оставшихся нулей. Так как у нас сильный невосполнимый дефицит данных, то есть два пути: либо мы удаляем эти строки (если процент таких данных от общего количества данных будет 1-3% и не более), либо мы можем воспользоваться методом Ферми и, например, заменить нули половиной суммы максимально указанной работодателем зарплаты. В любом случае искажения данных неизбежны, но эти действия помогут сделать их не столь существенными.\n",
    "  \n"
   ]
  },
  {
   "cell_type": "code",
   "execution_count": 118,
   "metadata": {},
   "outputs": [
    {
     "name": "stdout",
     "output_type": "stream",
     "text": [
      "Количество строк = 567, что составляет 13.26% от объема данных всего датасета.\n"
     ]
    }
   ],
   "source": [
    "# Оценим количество строк, где нет минимальной з/п, но есть максимальная\n",
    "wrong_row = df[(df['salary_min']==0)&(df['salary_max']!=0)].shape[0]\n",
    "print(f'Количество строк = {wrong_row}, что составляет {wrong_row*100/len(df):.2f}% от объема данных всего датасета.')"
   ]
  },
  {
   "cell_type": "markdown",
   "metadata": {},
   "source": [
    "В датасете имеются города, записанные с дополнительным словом 'город'. Пример ниже. Это может помешать фильтрации данных по региону."
   ]
  },
  {
   "cell_type": "code",
   "execution_count": 119,
   "metadata": {},
   "outputs": [
    {
     "data": {
      "text/html": [
       "<div>\n",
       "<style scoped>\n",
       "    .dataframe tbody tr th:only-of-type {\n",
       "        vertical-align: middle;\n",
       "    }\n",
       "\n",
       "    .dataframe tbody tr th {\n",
       "        vertical-align: top;\n",
       "    }\n",
       "\n",
       "    .dataframe thead th {\n",
       "        text-align: right;\n",
       "    }\n",
       "</style>\n",
       "<table border=\"1\" class=\"dataframe\">\n",
       "  <thead>\n",
       "    <tr style=\"text-align: right;\">\n",
       "      <th></th>\n",
       "      <th>title</th>\n",
       "      <th>work_experience</th>\n",
       "      <th>salary</th>\n",
       "      <th>region</th>\n",
       "      <th>salary_min</th>\n",
       "      <th>salary_max</th>\n",
       "      <th>exp_min</th>\n",
       "      <th>exp_max</th>\n",
       "    </tr>\n",
       "  </thead>\n",
       "  <tbody>\n",
       "    <tr>\n",
       "      <th>12</th>\n",
       "      <td>Python Developer (Crypto)</td>\n",
       "      <td>3–6 лет</td>\n",
       "      <td>от 5 000 EUR на руки</td>\n",
       "      <td>город Лимасол</td>\n",
       "      <td>0</td>\n",
       "      <td>5000</td>\n",
       "      <td>3</td>\n",
       "      <td>6</td>\n",
       "    </tr>\n",
       "    <tr>\n",
       "      <th>92</th>\n",
       "      <td>Senior Full-stack Developer (to Cyprus, Armenia)</td>\n",
       "      <td>3–6 лет</td>\n",
       "      <td>от 5 000 EUR на руки</td>\n",
       "      <td>город Лимасол</td>\n",
       "      <td>0</td>\n",
       "      <td>5000</td>\n",
       "      <td>3</td>\n",
       "      <td>6</td>\n",
       "    </tr>\n",
       "    <tr>\n",
       "      <th>132</th>\n",
       "      <td>Senior QA Engineer (Automation, Python) to Cyp...</td>\n",
       "      <td>3–6 лет</td>\n",
       "      <td>от 4 500 EUR на руки</td>\n",
       "      <td>город Лимасол</td>\n",
       "      <td>0</td>\n",
       "      <td>4500</td>\n",
       "      <td>3</td>\n",
       "      <td>6</td>\n",
       "    </tr>\n",
       "  </tbody>\n",
       "</table>\n",
       "</div>"
      ],
      "text/plain": [
       "                                                 title work_experience  \\\n",
       "12                           Python Developer (Crypto)         3–6 лет   \n",
       "92    Senior Full-stack Developer (to Cyprus, Armenia)         3–6 лет   \n",
       "132  Senior QA Engineer (Automation, Python) to Cyp...         3–6 лет   \n",
       "\n",
       "                   salary         region  salary_min  salary_max  exp_min  \\\n",
       "12   от 5 000 EUR на руки  город Лимасол           0        5000        3   \n",
       "92   от 5 000 EUR на руки  город Лимасол           0        5000        3   \n",
       "132  от 4 500 EUR на руки  город Лимасол           0        4500        3   \n",
       "\n",
       "     exp_max  \n",
       "12         6  \n",
       "92         6  \n",
       "132        6  "
      ]
     },
     "execution_count": 119,
     "metadata": {},
     "output_type": "execute_result"
    }
   ],
   "source": [
    "df[df['region']=='город Лимасол'].head(3)"
   ]
  },
  {
   "cell_type": "code",
   "execution_count": 120,
   "metadata": {},
   "outputs": [],
   "source": [
    "# Перестрахуемся и уберем приставку 'город' там, где это возможно\n",
    "def city_remove(row):\n",
    "    region = row['region']\n",
    "    if 'город' in region:\n",
    "        region = region.replace('город ', '')\n",
    "        return region\n",
    "    else:\n",
    "        return region\n",
    "        \n",
    "df['region'] = df.apply(city_remove, axis=1)"
   ]
  },
  {
   "cell_type": "markdown",
   "metadata": {},
   "source": [
    "Теперь можно перейти к шагу 1 в восполнении данных с нулями."
   ]
  },
  {
   "cell_type": "code",
   "execution_count": 121,
   "metadata": {},
   "outputs": [],
   "source": [
    "# Шаг 1\n",
    "region_list = df['region'].unique()\n",
    "for region in region_list:\n",
    "    # отфильтровываем датасет по региону\n",
    "    filtered_region = df[df['region'] == region]\n",
    "    index_f_r = filtered_region.index\n",
    "    # Из датасета, отфильтрованного по региону, отфильтровываем строки с мин. з/п != 0 и макс. з/п != 0\n",
    "    filtered_salary = filtered_region[(filtered_region['salary_min'] != 0) &\n",
    "                                    (filtered_region['salary_max'] != 0)]\n",
    "    \n",
    "    for i in index_f_r:\n",
    "        similar = filtered_salary[filtered_salary['salary_max'] == filtered_region['salary_max'][i]]\n",
    "        if (filtered_region['salary_min'][i] == 0 and filtered_region['salary_max'][i] != 0 \n",
    "            and len(filtered_salary) != 1 and len(filtered_salary) != 0):\n",
    "            if len(similar) > 1:\n",
    "                s_median = similar['salary_min'].median()\n",
    "                df['salary_min'][i] = s_median\n",
    "            else:\n",
    "                df['salary_min'][i] = df.loc[i, 'salary_min']\n",
    "        elif (filtered_region['salary_min'][i] == 0 and filtered_region['salary_max'][i] != 0) and (len(filtered_salary) == 1 or len(filtered_salary) == 0):\n",
    "            df['salary_min'][i] = df.loc[i, 'salary_min']\n",
    "\n",
    "df['salary_min'] = df['salary_min'].astype('int')"
   ]
  },
  {
   "cell_type": "code",
   "execution_count": 122,
   "metadata": {},
   "outputs": [
    {
     "name": "stdout",
     "output_type": "stream",
     "text": [
      "Количество строк = 334, что составляет 7.81% от объема данных всего датасета.\n"
     ]
    }
   ],
   "source": [
    "# Оценим количество строк, где нет минимальной з/п, но есть максимальная\n",
    "wrong_row = df[(df['salary_min']==0)&(df['salary_max']!=0)].shape[0]\n",
    "print(f'Количество строк = {wrong_row}, что составляет {wrong_row*100/len(df):.2f}% от объема данных всего датасета.')"
   ]
  },
  {
   "cell_type": "markdown",
   "metadata": {},
   "source": [
    "Удалось восполнить 231 строку. Переходим к шагу 2."
   ]
  },
  {
   "cell_type": "code",
   "execution_count": 123,
   "metadata": {},
   "outputs": [],
   "source": [
    "def del_zero(row):\n",
    "    s_min = row['salary_min']\n",
    "    s_max = row['salary_max']\n",
    "    if s_min == 0 and s_max != 0:\n",
    "        fixed_salary = int(s_max / 2)\n",
    "        return fixed_salary\n",
    "    else:\n",
    "        return s_min\n",
    "    "
   ]
  },
  {
   "cell_type": "code",
   "execution_count": 124,
   "metadata": {},
   "outputs": [],
   "source": [
    "df['salary_min'] = df.apply(del_zero, axis=1)"
   ]
  },
  {
   "cell_type": "code",
   "execution_count": 125,
   "metadata": {},
   "outputs": [
    {
     "data": {
      "text/html": [
       "<div>\n",
       "<style scoped>\n",
       "    .dataframe tbody tr th:only-of-type {\n",
       "        vertical-align: middle;\n",
       "    }\n",
       "\n",
       "    .dataframe tbody tr th {\n",
       "        vertical-align: top;\n",
       "    }\n",
       "\n",
       "    .dataframe thead th {\n",
       "        text-align: right;\n",
       "    }\n",
       "</style>\n",
       "<table border=\"1\" class=\"dataframe\">\n",
       "  <thead>\n",
       "    <tr style=\"text-align: right;\">\n",
       "      <th></th>\n",
       "      <th>title</th>\n",
       "      <th>work_experience</th>\n",
       "      <th>salary</th>\n",
       "      <th>region</th>\n",
       "      <th>salary_min</th>\n",
       "      <th>salary_max</th>\n",
       "      <th>exp_min</th>\n",
       "      <th>exp_max</th>\n",
       "    </tr>\n",
       "  </thead>\n",
       "  <tbody>\n",
       "    <tr>\n",
       "      <th>0</th>\n",
       "      <td>Python Разработчик</td>\n",
       "      <td>1–3 года</td>\n",
       "      <td>от 200 000 до 1 500 000 KZT на руки</td>\n",
       "      <td>Астана</td>\n",
       "      <td>200000</td>\n",
       "      <td>1500000</td>\n",
       "      <td>1</td>\n",
       "      <td>3</td>\n",
       "    </tr>\n",
       "    <tr>\n",
       "      <th>1</th>\n",
       "      <td>Full-stack Python Developer</td>\n",
       "      <td>3–6 лет</td>\n",
       "      <td>от 4 500 до 5 000 EUR до вычета налогов</td>\n",
       "      <td>Астана</td>\n",
       "      <td>4500</td>\n",
       "      <td>5000</td>\n",
       "      <td>3</td>\n",
       "      <td>6</td>\n",
       "    </tr>\n",
       "    <tr>\n",
       "      <th>2</th>\n",
       "      <td>Junior разработчик/программист в Python</td>\n",
       "      <td>не требуется</td>\n",
       "      <td>от 150 000 до 200 000 KZT до вычета налогов</td>\n",
       "      <td>Нур-Султан (Астана)</td>\n",
       "      <td>150000</td>\n",
       "      <td>200000</td>\n",
       "      <td>0</td>\n",
       "      <td>0</td>\n",
       "    </tr>\n",
       "    <tr>\n",
       "      <th>3</th>\n",
       "      <td>Python Developer (Middle/Senior)</td>\n",
       "      <td>3–6 лет</td>\n",
       "      <td>от 2 000 до 4 000 USD на руки</td>\n",
       "      <td>Алматы</td>\n",
       "      <td>2000</td>\n",
       "      <td>4000</td>\n",
       "      <td>3</td>\n",
       "      <td>6</td>\n",
       "    </tr>\n",
       "    <tr>\n",
       "      <th>4</th>\n",
       "      <td>Backend разработчик</td>\n",
       "      <td>1–3 года</td>\n",
       "      <td>з/п не указана</td>\n",
       "      <td>Астана</td>\n",
       "      <td>0</td>\n",
       "      <td>0</td>\n",
       "      <td>1</td>\n",
       "      <td>3</td>\n",
       "    </tr>\n",
       "    <tr>\n",
       "      <th>...</th>\n",
       "      <td>...</td>\n",
       "      <td>...</td>\n",
       "      <td>...</td>\n",
       "      <td>...</td>\n",
       "      <td>...</td>\n",
       "      <td>...</td>\n",
       "      <td>...</td>\n",
       "      <td>...</td>\n",
       "    </tr>\n",
       "    <tr>\n",
       "      <th>4279</th>\n",
       "      <td>Специалист службы поддержки с техническими зна...</td>\n",
       "      <td>не требуется</td>\n",
       "      <td>от 15 000 до 40 000 руб. на руки</td>\n",
       "      <td>Ижевск</td>\n",
       "      <td>15000</td>\n",
       "      <td>40000</td>\n",
       "      <td>0</td>\n",
       "      <td>0</td>\n",
       "    </tr>\n",
       "    <tr>\n",
       "      <th>4280</th>\n",
       "      <td>Web-разработчик junior</td>\n",
       "      <td>не требуется</td>\n",
       "      <td>до 70 000 руб. на руки</td>\n",
       "      <td>Санкт-Петербург</td>\n",
       "      <td>35000</td>\n",
       "      <td>70000</td>\n",
       "      <td>0</td>\n",
       "      <td>0</td>\n",
       "    </tr>\n",
       "    <tr>\n",
       "      <th>4281</th>\n",
       "      <td>Web-разработчик</td>\n",
       "      <td>не требуется</td>\n",
       "      <td>з/п не указана</td>\n",
       "      <td>Нижний Новгород</td>\n",
       "      <td>0</td>\n",
       "      <td>0</td>\n",
       "      <td>0</td>\n",
       "      <td>0</td>\n",
       "    </tr>\n",
       "    <tr>\n",
       "      <th>4282</th>\n",
       "      <td>Младший аналитик (IT)</td>\n",
       "      <td>не требуется</td>\n",
       "      <td>от 100 000 до 130 000 руб. на руки</td>\n",
       "      <td>Москва</td>\n",
       "      <td>100000</td>\n",
       "      <td>130000</td>\n",
       "      <td>0</td>\n",
       "      <td>0</td>\n",
       "    </tr>\n",
       "    <tr>\n",
       "      <th>4283</th>\n",
       "      <td>Программист PHP Junior</td>\n",
       "      <td>не требуется</td>\n",
       "      <td>от 60 000 до 80 000 руб. на руки</td>\n",
       "      <td>Севастополь</td>\n",
       "      <td>60000</td>\n",
       "      <td>80000</td>\n",
       "      <td>0</td>\n",
       "      <td>0</td>\n",
       "    </tr>\n",
       "  </tbody>\n",
       "</table>\n",
       "<p>4276 rows × 8 columns</p>\n",
       "</div>"
      ],
      "text/plain": [
       "                                                  title work_experience  \\\n",
       "0                                    Python Разработчик        1–3 года   \n",
       "1                           Full-stack Python Developer         3–6 лет   \n",
       "2               Junior разработчик/программист в Python    не требуется   \n",
       "3                      Python Developer (Middle/Senior)         3–6 лет   \n",
       "4                                   Backend разработчик        1–3 года   \n",
       "...                                                 ...             ...   \n",
       "4279  Специалист службы поддержки с техническими зна...    не требуется   \n",
       "4280                             Web-разработчик junior    не требуется   \n",
       "4281                                    Web-разработчик    не требуется   \n",
       "4282                              Младший аналитик (IT)    не требуется   \n",
       "4283                             Программист PHP Junior    не требуется   \n",
       "\n",
       "                                           salary               region  \\\n",
       "0             от 200 000 до 1 500 000 KZT на руки               Астана   \n",
       "1         от 4 500 до 5 000 EUR до вычета налогов               Астана   \n",
       "2     от 150 000 до 200 000 KZT до вычета налогов  Нур-Султан (Астана)   \n",
       "3                   от 2 000 до 4 000 USD на руки               Алматы   \n",
       "4                                  з/п не указана               Астана   \n",
       "...                                           ...                  ...   \n",
       "4279             от 15 000 до 40 000 руб. на руки               Ижевск   \n",
       "4280                       до 70 000 руб. на руки      Санкт-Петербург   \n",
       "4281                               з/п не указана      Нижний Новгород   \n",
       "4282           от 100 000 до 130 000 руб. на руки               Москва   \n",
       "4283             от 60 000 до 80 000 руб. на руки          Севастополь   \n",
       "\n",
       "      salary_min  salary_max  exp_min  exp_max  \n",
       "0         200000     1500000        1        3  \n",
       "1           4500        5000        3        6  \n",
       "2         150000      200000        0        0  \n",
       "3           2000        4000        3        6  \n",
       "4              0           0        1        3  \n",
       "...          ...         ...      ...      ...  \n",
       "4279       15000       40000        0        0  \n",
       "4280       35000       70000        0        0  \n",
       "4281           0           0        0        0  \n",
       "4282      100000      130000        0        0  \n",
       "4283       60000       80000        0        0  \n",
       "\n",
       "[4276 rows x 8 columns]"
      ]
     },
     "execution_count": 125,
     "metadata": {},
     "output_type": "execute_result"
    }
   ],
   "source": [
    "df"
   ]
  },
  {
   "cell_type": "code",
   "execution_count": 126,
   "metadata": {},
   "outputs": [
    {
     "name": "stdout",
     "output_type": "stream",
     "text": [
      "Количество строк = 0, что составляет 0.00% от объема данных всего датасета.\n"
     ]
    }
   ],
   "source": [
    "# Снова оценим количество строк, где нет минимальной з/п, но есть максимальная\n",
    "wrong_row = df[(df['salary_min']==0)&(df['salary_max']!=0)].shape[0]\n",
    "print(f'Количество строк = {wrong_row}, что составляет {wrong_row*100/len(df):.2f}% от объема данных всего датасета.')"
   ]
  },
  {
   "cell_type": "markdown",
   "metadata": {},
   "source": [
    "Все возможные нули заменены.  \n",
    "Так как почти все зарплаты и опыт работы указаны в виде диапазонов, то для более менее корректной оценки введем два дополнительных столбца со средним значением из этих диапазонов. "
   ]
  },
  {
   "cell_type": "code",
   "execution_count": 128,
   "metadata": {},
   "outputs": [],
   "source": [
    "df['salary_mean'] = (df['salary_min'] + df['salary_max']) / 2\n",
    "df['exp_mean'] = (df['exp_min'] + df['exp_max']) / 2\n",
    "df['salary_mean'] = df['salary_mean'].apply(lambda x: int(x + 0.5))\n",
    "df['exp_mean'] = df['exp_mean'].apply(lambda x: int(x + 0.5))"
   ]
  },
  {
   "cell_type": "code",
   "execution_count": 129,
   "metadata": {},
   "outputs": [
    {
     "data": {
      "text/html": [
       "<div>\n",
       "<style scoped>\n",
       "    .dataframe tbody tr th:only-of-type {\n",
       "        vertical-align: middle;\n",
       "    }\n",
       "\n",
       "    .dataframe tbody tr th {\n",
       "        vertical-align: top;\n",
       "    }\n",
       "\n",
       "    .dataframe thead th {\n",
       "        text-align: right;\n",
       "    }\n",
       "</style>\n",
       "<table border=\"1\" class=\"dataframe\">\n",
       "  <thead>\n",
       "    <tr style=\"text-align: right;\">\n",
       "      <th></th>\n",
       "      <th>title</th>\n",
       "      <th>work_experience</th>\n",
       "      <th>salary</th>\n",
       "      <th>region</th>\n",
       "      <th>salary_min</th>\n",
       "      <th>salary_max</th>\n",
       "      <th>exp_min</th>\n",
       "      <th>exp_max</th>\n",
       "      <th>salary_mean</th>\n",
       "      <th>exp_mean</th>\n",
       "    </tr>\n",
       "  </thead>\n",
       "  <tbody>\n",
       "    <tr>\n",
       "      <th>0</th>\n",
       "      <td>Python Разработчик</td>\n",
       "      <td>1–3 года</td>\n",
       "      <td>от 200 000 до 1 500 000 KZT на руки</td>\n",
       "      <td>Астана</td>\n",
       "      <td>200000</td>\n",
       "      <td>1500000</td>\n",
       "      <td>1</td>\n",
       "      <td>3</td>\n",
       "      <td>850000</td>\n",
       "      <td>2</td>\n",
       "    </tr>\n",
       "    <tr>\n",
       "      <th>1</th>\n",
       "      <td>Full-stack Python Developer</td>\n",
       "      <td>3–6 лет</td>\n",
       "      <td>от 4 500 до 5 000 EUR до вычета налогов</td>\n",
       "      <td>Астана</td>\n",
       "      <td>4500</td>\n",
       "      <td>5000</td>\n",
       "      <td>3</td>\n",
       "      <td>6</td>\n",
       "      <td>4750</td>\n",
       "      <td>5</td>\n",
       "    </tr>\n",
       "    <tr>\n",
       "      <th>2</th>\n",
       "      <td>Junior разработчик/программист в Python</td>\n",
       "      <td>не требуется</td>\n",
       "      <td>от 150 000 до 200 000 KZT до вычета налогов</td>\n",
       "      <td>Нур-Султан (Астана)</td>\n",
       "      <td>150000</td>\n",
       "      <td>200000</td>\n",
       "      <td>0</td>\n",
       "      <td>0</td>\n",
       "      <td>175000</td>\n",
       "      <td>0</td>\n",
       "    </tr>\n",
       "    <tr>\n",
       "      <th>3</th>\n",
       "      <td>Python Developer (Middle/Senior)</td>\n",
       "      <td>3–6 лет</td>\n",
       "      <td>от 2 000 до 4 000 USD на руки</td>\n",
       "      <td>Алматы</td>\n",
       "      <td>2000</td>\n",
       "      <td>4000</td>\n",
       "      <td>3</td>\n",
       "      <td>6</td>\n",
       "      <td>3000</td>\n",
       "      <td>5</td>\n",
       "    </tr>\n",
       "    <tr>\n",
       "      <th>4</th>\n",
       "      <td>Backend разработчик</td>\n",
       "      <td>1–3 года</td>\n",
       "      <td>з/п не указана</td>\n",
       "      <td>Астана</td>\n",
       "      <td>0</td>\n",
       "      <td>0</td>\n",
       "      <td>1</td>\n",
       "      <td>3</td>\n",
       "      <td>0</td>\n",
       "      <td>2</td>\n",
       "    </tr>\n",
       "    <tr>\n",
       "      <th>...</th>\n",
       "      <td>...</td>\n",
       "      <td>...</td>\n",
       "      <td>...</td>\n",
       "      <td>...</td>\n",
       "      <td>...</td>\n",
       "      <td>...</td>\n",
       "      <td>...</td>\n",
       "      <td>...</td>\n",
       "      <td>...</td>\n",
       "      <td>...</td>\n",
       "    </tr>\n",
       "    <tr>\n",
       "      <th>4279</th>\n",
       "      <td>Специалист службы поддержки с техническими зна...</td>\n",
       "      <td>не требуется</td>\n",
       "      <td>от 15 000 до 40 000 руб. на руки</td>\n",
       "      <td>Ижевск</td>\n",
       "      <td>15000</td>\n",
       "      <td>40000</td>\n",
       "      <td>0</td>\n",
       "      <td>0</td>\n",
       "      <td>27500</td>\n",
       "      <td>0</td>\n",
       "    </tr>\n",
       "    <tr>\n",
       "      <th>4280</th>\n",
       "      <td>Web-разработчик junior</td>\n",
       "      <td>не требуется</td>\n",
       "      <td>до 70 000 руб. на руки</td>\n",
       "      <td>Санкт-Петербург</td>\n",
       "      <td>35000</td>\n",
       "      <td>70000</td>\n",
       "      <td>0</td>\n",
       "      <td>0</td>\n",
       "      <td>52500</td>\n",
       "      <td>0</td>\n",
       "    </tr>\n",
       "    <tr>\n",
       "      <th>4281</th>\n",
       "      <td>Web-разработчик</td>\n",
       "      <td>не требуется</td>\n",
       "      <td>з/п не указана</td>\n",
       "      <td>Нижний Новгород</td>\n",
       "      <td>0</td>\n",
       "      <td>0</td>\n",
       "      <td>0</td>\n",
       "      <td>0</td>\n",
       "      <td>0</td>\n",
       "      <td>0</td>\n",
       "    </tr>\n",
       "    <tr>\n",
       "      <th>4282</th>\n",
       "      <td>Младший аналитик (IT)</td>\n",
       "      <td>не требуется</td>\n",
       "      <td>от 100 000 до 130 000 руб. на руки</td>\n",
       "      <td>Москва</td>\n",
       "      <td>100000</td>\n",
       "      <td>130000</td>\n",
       "      <td>0</td>\n",
       "      <td>0</td>\n",
       "      <td>115000</td>\n",
       "      <td>0</td>\n",
       "    </tr>\n",
       "    <tr>\n",
       "      <th>4283</th>\n",
       "      <td>Программист PHP Junior</td>\n",
       "      <td>не требуется</td>\n",
       "      <td>от 60 000 до 80 000 руб. на руки</td>\n",
       "      <td>Севастополь</td>\n",
       "      <td>60000</td>\n",
       "      <td>80000</td>\n",
       "      <td>0</td>\n",
       "      <td>0</td>\n",
       "      <td>70000</td>\n",
       "      <td>0</td>\n",
       "    </tr>\n",
       "  </tbody>\n",
       "</table>\n",
       "<p>4276 rows × 10 columns</p>\n",
       "</div>"
      ],
      "text/plain": [
       "                                                  title work_experience  \\\n",
       "0                                    Python Разработчик        1–3 года   \n",
       "1                           Full-stack Python Developer         3–6 лет   \n",
       "2               Junior разработчик/программист в Python    не требуется   \n",
       "3                      Python Developer (Middle/Senior)         3–6 лет   \n",
       "4                                   Backend разработчик        1–3 года   \n",
       "...                                                 ...             ...   \n",
       "4279  Специалист службы поддержки с техническими зна...    не требуется   \n",
       "4280                             Web-разработчик junior    не требуется   \n",
       "4281                                    Web-разработчик    не требуется   \n",
       "4282                              Младший аналитик (IT)    не требуется   \n",
       "4283                             Программист PHP Junior    не требуется   \n",
       "\n",
       "                                           salary               region  \\\n",
       "0             от 200 000 до 1 500 000 KZT на руки               Астана   \n",
       "1         от 4 500 до 5 000 EUR до вычета налогов               Астана   \n",
       "2     от 150 000 до 200 000 KZT до вычета налогов  Нур-Султан (Астана)   \n",
       "3                   от 2 000 до 4 000 USD на руки               Алматы   \n",
       "4                                  з/п не указана               Астана   \n",
       "...                                           ...                  ...   \n",
       "4279             от 15 000 до 40 000 руб. на руки               Ижевск   \n",
       "4280                       до 70 000 руб. на руки      Санкт-Петербург   \n",
       "4281                               з/п не указана      Нижний Новгород   \n",
       "4282           от 100 000 до 130 000 руб. на руки               Москва   \n",
       "4283             от 60 000 до 80 000 руб. на руки          Севастополь   \n",
       "\n",
       "      salary_min  salary_max  exp_min  exp_max  salary_mean  exp_mean  \n",
       "0         200000     1500000        1        3       850000         2  \n",
       "1           4500        5000        3        6         4750         5  \n",
       "2         150000      200000        0        0       175000         0  \n",
       "3           2000        4000        3        6         3000         5  \n",
       "4              0           0        1        3            0         2  \n",
       "...          ...         ...      ...      ...          ...       ...  \n",
       "4279       15000       40000        0        0        27500         0  \n",
       "4280       35000       70000        0        0        52500         0  \n",
       "4281           0           0        0        0            0         0  \n",
       "4282      100000      130000        0        0       115000         0  \n",
       "4283       60000       80000        0        0        70000         0  \n",
       "\n",
       "[4276 rows x 10 columns]"
      ]
     },
     "execution_count": 129,
     "metadata": {},
     "output_type": "execute_result"
    }
   ],
   "source": [
    "df"
   ]
  },
  {
   "cell_type": "code",
   "execution_count": null,
   "metadata": {},
   "outputs": [],
   "source": []
  },
  {
   "cell_type": "markdown",
   "metadata": {},
   "source": [
    "# Чек-лист"
   ]
  },
  {
   "cell_type": "markdown",
   "metadata": {},
   "source": [
    "- [ ]  Сгруппируйте вакансии по направлениями (DS, DE, Software Engenering, etc.);\n",
    "- [ ]  Какая средняя и медианная зарплата по группам вакансий?\n",
    "- [ ]  Какая средняя и медианная зарплата по каждому региону?\n",
    "- [ ]  Какая самая высокооплачиваемая из групп вакансий, исходя из их средних зарплат?\n",
    "- [ ]  Какое процентное соотношение каждого региона по вакансиям от всех вакансий?\n",
    "- [ ]  Какая корреляция уровня опыта от зарплаты? (Преобразовать уровень опыта в числовой тип, если возможно. Например: ('MI': 0, 'SE': 1, 'EN': 2, 'EX': 3);\n",
    "- [ ]  Сколько должностей в наборе данных?\n",
    "- [ ]  Какие 10 наиболее часто встречающихся должностей?\n"
   ]
  },
  {
   "cell_type": "code",
   "execution_count": null,
   "metadata": {},
   "outputs": [],
   "source": []
  },
  {
   "cell_type": "code",
   "execution_count": null,
   "metadata": {},
   "outputs": [],
   "source": [
    "# Посчитаем количество уникальных вакансий\n",
    "title_unique = df['title'].unique()\n",
    "title_unique.shape"
   ]
  },
  {
   "cell_type": "code",
   "execution_count": null,
   "metadata": {},
   "outputs": [],
   "source": [
    "ds_title_list = [i for i in df['title'] if 'Data Science' in str(i) \n",
    "     or 'data science' in str(i) \n",
    "     or 'Data science' in str(i) \n",
    "     or 'data Science' in str(i)\n",
    "     or 'Data-Science' in str(i) \n",
    "     or 'data-science' in str(i) \n",
    "     or 'Data-science' in str(i) \n",
    "     or 'data-Science' in str(i)]\n",
    "print(ds_title_list)\n",
    "\n",
    "de_names = ['Data engeener', 'data engeener', 'Data Engeener', 'data Engeener', \n",
    "            'Data engeenering', 'data engeenering', 'Data Engeenering', 'data Engeenering',\n",
    "            'Инженер данных', 'инженер данных', 'инженер Данных', 'Инженер Данных',\n",
    "            'Инженер больших данных', 'инженер больших данных', 'инженер Больших Данных', 'Инженер Больших Данных',\n",
    "            'Инженер Больших данных', 'инженер Больших данных', 'инженер больших Данных', 'Инженер больших Данных',\n",
    "            'дата-инженер', 'Дата-инженер', 'Дата-Инженер', 'Data-engeener', 'data-engeener', 'Data-Engeener', 'data-Engeener']\n",
    "de_title_list = []\n",
    "for v in de_names:\n",
    "     for i in range(len(title_unique)):\n",
    "          if v in str(title_unique[i]):\n",
    "               i_number = df.loc[df['title'] == title_unique[i]].index\n",
    "               de_title_list.append(i_number[0])\n",
    "               #de_title_list.append(df.loc[df['title'] == title_unique[i]].index)\n",
    "print(de_title_list)\n"
   ]
  },
  {
   "cell_type": "code",
   "execution_count": null,
   "metadata": {},
   "outputs": [],
   "source": [
    "k = df[df['region'] == 'Астана']\n",
    "index_k = k.index\n",
    "for index in index_k:\n",
    "    print(k[index])"
   ]
  },
  {
   "cell_type": "code",
   "execution_count": null,
   "metadata": {},
   "outputs": [],
   "source": [
    "k"
   ]
  },
  {
   "cell_type": "code",
   "execution_count": 247,
   "metadata": {},
   "outputs": [
    {
     "data": {
      "text/html": [
       "<div>\n",
       "<style scoped>\n",
       "    .dataframe tbody tr th:only-of-type {\n",
       "        vertical-align: middle;\n",
       "    }\n",
       "\n",
       "    .dataframe tbody tr th {\n",
       "        vertical-align: top;\n",
       "    }\n",
       "\n",
       "    .dataframe thead th {\n",
       "        text-align: right;\n",
       "    }\n",
       "</style>\n",
       "<table border=\"1\" class=\"dataframe\">\n",
       "  <thead>\n",
       "    <tr style=\"text-align: right;\">\n",
       "      <th></th>\n",
       "      <th>title</th>\n",
       "      <th>work_experience</th>\n",
       "      <th>salary</th>\n",
       "      <th>region</th>\n",
       "      <th>salary_min</th>\n",
       "      <th>salary_max</th>\n",
       "      <th>exp_min</th>\n",
       "      <th>exp_max</th>\n",
       "    </tr>\n",
       "  </thead>\n",
       "  <tbody>\n",
       "    <tr>\n",
       "      <th>12</th>\n",
       "      <td>Python Developer (Crypto)</td>\n",
       "      <td>3–6 лет</td>\n",
       "      <td>от 5 000 EUR на руки</td>\n",
       "      <td>город Лимасол</td>\n",
       "      <td>0</td>\n",
       "      <td>5000</td>\n",
       "      <td>3</td>\n",
       "      <td>6</td>\n",
       "    </tr>\n",
       "    <tr>\n",
       "      <th>22</th>\n",
       "      <td>Go разработчик со знаниями Python</td>\n",
       "      <td>1–3 года</td>\n",
       "      <td>до 1 000 000 KZT на руки</td>\n",
       "      <td>Алматы</td>\n",
       "      <td>0</td>\n",
       "      <td>1000000</td>\n",
       "      <td>1</td>\n",
       "      <td>3</td>\n",
       "    </tr>\n",
       "    <tr>\n",
       "      <th>45</th>\n",
       "      <td>Senior Python разработчик (back-end)</td>\n",
       "      <td>более 6 лет</td>\n",
       "      <td>от 1 500 000 KZT до вычета налогов</td>\n",
       "      <td>Нур-Султан (Астана)</td>\n",
       "      <td>0</td>\n",
       "      <td>1500000</td>\n",
       "      <td>6</td>\n",
       "      <td>0</td>\n",
       "    </tr>\n",
       "    <tr>\n",
       "      <th>65</th>\n",
       "      <td>Senior Go Developer</td>\n",
       "      <td>3–6 лет</td>\n",
       "      <td>до 1 300 000 KZT на руки</td>\n",
       "      <td>Алматы</td>\n",
       "      <td>0</td>\n",
       "      <td>1300000</td>\n",
       "      <td>3</td>\n",
       "      <td>6</td>\n",
       "    </tr>\n",
       "    <tr>\n",
       "      <th>77</th>\n",
       "      <td>PHP-разработчик</td>\n",
       "      <td>1–3 года</td>\n",
       "      <td>от 300 000 KZT на руки</td>\n",
       "      <td>Алматы</td>\n",
       "      <td>0</td>\n",
       "      <td>300000</td>\n",
       "      <td>1</td>\n",
       "      <td>3</td>\n",
       "    </tr>\n",
       "    <tr>\n",
       "      <th>...</th>\n",
       "      <td>...</td>\n",
       "      <td>...</td>\n",
       "      <td>...</td>\n",
       "      <td>...</td>\n",
       "      <td>...</td>\n",
       "      <td>...</td>\n",
       "      <td>...</td>\n",
       "      <td>...</td>\n",
       "    </tr>\n",
       "    <tr>\n",
       "      <th>4265</th>\n",
       "      <td>Ночной специалист службы поддержки с техническ...</td>\n",
       "      <td>не требуется</td>\n",
       "      <td>от 15 000 руб. на руки</td>\n",
       "      <td>Москва</td>\n",
       "      <td>0</td>\n",
       "      <td>15000</td>\n",
       "      <td>0</td>\n",
       "      <td>0</td>\n",
       "    </tr>\n",
       "    <tr>\n",
       "      <th>4266</th>\n",
       "      <td>Ночной специалист службы поддержки с техническ...</td>\n",
       "      <td>не требуется</td>\n",
       "      <td>от 15 000 руб. на руки</td>\n",
       "      <td>Санкт-Петербург</td>\n",
       "      <td>0</td>\n",
       "      <td>15000</td>\n",
       "      <td>0</td>\n",
       "      <td>0</td>\n",
       "    </tr>\n",
       "    <tr>\n",
       "      <th>4270</th>\n",
       "      <td>Преподаватель программирования для детей</td>\n",
       "      <td>не требуется</td>\n",
       "      <td>до 45 000 руб. на руки</td>\n",
       "      <td>Москва</td>\n",
       "      <td>0</td>\n",
       "      <td>45000</td>\n",
       "      <td>0</td>\n",
       "      <td>0</td>\n",
       "    </tr>\n",
       "    <tr>\n",
       "      <th>4271</th>\n",
       "      <td>Специалист по внедрению и сопровождению ПО</td>\n",
       "      <td>не требуется</td>\n",
       "      <td>от 45 000 руб. на руки</td>\n",
       "      <td>Челябинск</td>\n",
       "      <td>0</td>\n",
       "      <td>45000</td>\n",
       "      <td>0</td>\n",
       "      <td>0</td>\n",
       "    </tr>\n",
       "    <tr>\n",
       "      <th>4280</th>\n",
       "      <td>Web-разработчик junior</td>\n",
       "      <td>не требуется</td>\n",
       "      <td>до 70 000 руб. на руки</td>\n",
       "      <td>Санкт-Петербург</td>\n",
       "      <td>0</td>\n",
       "      <td>70000</td>\n",
       "      <td>0</td>\n",
       "      <td>0</td>\n",
       "    </tr>\n",
       "  </tbody>\n",
       "</table>\n",
       "<p>567 rows × 8 columns</p>\n",
       "</div>"
      ],
      "text/plain": [
       "                                                  title work_experience  \\\n",
       "12                            Python Developer (Crypto)         3–6 лет   \n",
       "22                    Go разработчик со знаниями Python        1–3 года   \n",
       "45                 Senior Python разработчик (back-end)     более 6 лет   \n",
       "65                                  Senior Go Developer         3–6 лет   \n",
       "77                                      PHP-разработчик        1–3 года   \n",
       "...                                                 ...             ...   \n",
       "4265  Ночной специалист службы поддержки с техническ...    не требуется   \n",
       "4266  Ночной специалист службы поддержки с техническ...    не требуется   \n",
       "4270           Преподаватель программирования для детей    не требуется   \n",
       "4271         Специалист по внедрению и сопровождению ПО    не требуется   \n",
       "4280                             Web-разработчик junior    не требуется   \n",
       "\n",
       "                                  salary               region  salary_min  \\\n",
       "12                  от 5 000 EUR на руки        город Лимасол           0   \n",
       "22              до 1 000 000 KZT на руки               Алматы           0   \n",
       "45    от 1 500 000 KZT до вычета налогов  Нур-Султан (Астана)           0   \n",
       "65              до 1 300 000 KZT на руки               Алматы           0   \n",
       "77                от 300 000 KZT на руки               Алматы           0   \n",
       "...                                  ...                  ...         ...   \n",
       "4265              от 15 000 руб. на руки               Москва           0   \n",
       "4266              от 15 000 руб. на руки      Санкт-Петербург           0   \n",
       "4270              до 45 000 руб. на руки               Москва           0   \n",
       "4271              от 45 000 руб. на руки            Челябинск           0   \n",
       "4280              до 70 000 руб. на руки      Санкт-Петербург           0   \n",
       "\n",
       "      salary_max  exp_min  exp_max  \n",
       "12          5000        3        6  \n",
       "22       1000000        1        3  \n",
       "45       1500000        6        0  \n",
       "65       1300000        3        6  \n",
       "77        300000        1        3  \n",
       "...          ...      ...      ...  \n",
       "4265       15000        0        0  \n",
       "4266       15000        0        0  \n",
       "4270       45000        0        0  \n",
       "4271       45000        0        0  \n",
       "4280       70000        0        0  \n",
       "\n",
       "[567 rows x 8 columns]"
      ]
     },
     "execution_count": 247,
     "metadata": {},
     "output_type": "execute_result"
    }
   ],
   "source": [
    "df[(df['salary_min']==0)&(df['salary_max']!=0)]"
   ]
  },
  {
   "cell_type": "code",
   "execution_count": 248,
   "metadata": {},
   "outputs": [
    {
     "data": {
      "text/plain": [
       "231"
      ]
     },
     "execution_count": 248,
     "metadata": {},
     "output_type": "execute_result"
    }
   ],
   "source": [
    "567 - 336"
   ]
  },
  {
   "cell_type": "code",
   "execution_count": 249,
   "metadata": {},
   "outputs": [
    {
     "data": {
      "text/plain": [
       "7.8431372549019605"
      ]
     },
     "execution_count": 249,
     "metadata": {},
     "output_type": "execute_result"
    }
   ],
   "source": [
    "336*100/4284"
   ]
  },
  {
   "cell_type": "code",
   "execution_count": 62,
   "metadata": {},
   "outputs": [
    {
     "data": {
      "text/plain": [
       "4"
      ]
     },
     "execution_count": 62,
     "metadata": {},
     "output_type": "execute_result"
    }
   ],
   "source": []
  },
  {
   "cell_type": "code",
   "execution_count": 222,
   "metadata": {},
   "outputs": [],
   "source": [
    "\n",
    "\n",
    "# отфильтровываем датасет по региону\n",
    "filtred_region = df[df['region'] == 'Москва']\n",
    "index_f_r = filtred_region.index\n",
    "# Из датасета, отфильтрованного по региону, отфильтровываем строки с мин. з/п != 0 и макс. з/п != 0\n",
    "filtred_salary = filtred_region[(filtred_region['salary_min'] != 0) &\n",
    "                                (filtred_region['salary_max'] != 0)]"
   ]
  },
  {
   "cell_type": "code",
   "execution_count": null,
   "metadata": {},
   "outputs": [],
   "source": [
    "for i in index_f_r:\n",
    "    similar = filtred_salary[filtred_salary['salary_max'] == filtred_region['salary_max'][i]]\n",
    "    if (filtred_region['salary_min'][i] == 0 and filtred_region['salary_max'][i] != 0 \n",
    "        and len(filtred_salary) != 1 and len(filtred_salary) != 0):\n",
    "        if len(similar) > 1:\n",
    "            s_median = similar['salary_min'].median()\n",
    "            df['salary_min'][i] = s_median\n",
    "        else:\n",
    "            df['salary_min'][i] = df.loc[i, 'salary_min']\n",
    "    elif (filtred_region['salary_min'][i] == 0 and filtred_region['salary_max'][i] != 0) and (len(filtred_salary) == 1 or len(filtred_salary) == 0):\n",
    "        df['salary_min'][i] = df.loc[i, 'salary_min']"
   ]
  },
  {
   "cell_type": "code",
   "execution_count": 231,
   "metadata": {},
   "outputs": [],
   "source": [
    "s_median = similar['salary_min'].median()"
   ]
  },
  {
   "cell_type": "code",
   "execution_count": 232,
   "metadata": {},
   "outputs": [
    {
     "data": {
      "text/plain": [
       "180000.0"
      ]
     },
     "execution_count": 232,
     "metadata": {},
     "output_type": "execute_result"
    }
   ],
   "source": [
    "s_median"
   ]
  },
  {
   "cell_type": "code",
   "execution_count": 227,
   "metadata": {},
   "outputs": [],
   "source": [
    "similar = filtred_salary[filtred_salary['salary_max'] == filtred_region['salary_max'][601]]"
   ]
  },
  {
   "cell_type": "code",
   "execution_count": 224,
   "metadata": {},
   "outputs": [
    {
     "data": {
      "text/plain": [
       "230000"
      ]
     },
     "execution_count": 224,
     "metadata": {},
     "output_type": "execute_result"
    }
   ],
   "source": [
    "filtred_region['salary_max'][601]"
   ]
  },
  {
   "cell_type": "code",
   "execution_count": 202,
   "metadata": {},
   "outputs": [
    {
     "data": {
      "text/plain": [
       "title              NaN\n",
       "work_experience    NaN\n",
       "salary             NaN\n",
       "region             NaN\n",
       "salary_min         NaN\n",
       "salary_max         NaN\n",
       "exp_min            NaN\n",
       "exp_max            NaN\n",
       "dtype: object"
      ]
     },
     "execution_count": 202,
     "metadata": {},
     "output_type": "execute_result"
    }
   ],
   "source": [
    "s_median"
   ]
  },
  {
   "cell_type": "code",
   "execution_count": 225,
   "metadata": {},
   "outputs": [
    {
     "data": {
      "text/plain": [
       "True"
      ]
     },
     "execution_count": 225,
     "metadata": {},
     "output_type": "execute_result"
    }
   ],
   "source": [
    "(filtred_region['salary_min'][601] == 0 and filtred_region['salary_max'][601] != 0 and len(filtred_salary) != 1 and len(filtred_salary) != 0)"
   ]
  },
  {
   "cell_type": "code",
   "execution_count": 226,
   "metadata": {},
   "outputs": [
    {
     "data": {
      "text/plain": [
       "False"
      ]
     },
     "execution_count": 226,
     "metadata": {},
     "output_type": "execute_result"
    }
   ],
   "source": [
    "(filtred_region['salary_min'][601] == 0 and filtred_region['salary_max'][601] != 0) and (len(filtred_salary) == 1 or len(filtred_salary) == 0)"
   ]
  },
  {
   "cell_type": "code",
   "execution_count": null,
   "metadata": {},
   "outputs": [],
   "source": [
    "df['salary_min'] = df['salary_min'].astype('int')"
   ]
  }
 ],
 "metadata": {
  "kernelspec": {
   "display_name": "Python 3.9.12 ('base')",
   "language": "python",
   "name": "python3"
  },
  "language_info": {
   "codemirror_mode": {
    "name": "ipython",
    "version": 3
   },
   "file_extension": ".py",
   "mimetype": "text/x-python",
   "name": "python",
   "nbconvert_exporter": "python",
   "pygments_lexer": "ipython3",
   "version": "3.9.12"
  },
  "orig_nbformat": 4,
  "vscode": {
   "interpreter": {
    "hash": "d70e16a2347e8a9918903bf02469e7c5e466ed9041e3df84fa7172a15d610167"
   }
  }
 },
 "nbformat": 4,
 "nbformat_minor": 2
}
