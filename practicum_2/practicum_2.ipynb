{
 "cells": [
  {
   "cell_type": "markdown",
   "metadata": {},
   "source": [
    "# Практическая работа №2 Основы Python"
   ]
  },
  {
   "cell_type": "markdown",
   "metadata": {},
   "source": [
    "## 1. Парсинг вакансий"
   ]
  },
  {
   "cell_type": "code",
   "execution_count": null,
   "metadata": {},
   "outputs": [],
   "source": [
    "import requests as req\n",
    "from bs4 import BeautifulSoup\n",
    "from fake_useragent import UserAgent\n",
    "import json"
   ]
  },
  {
   "cell_type": "code",
   "execution_count": null,
   "metadata": {},
   "outputs": [],
   "source": [
    "ua = UserAgent()\n",
    "hdr = {\"Accept\": \"*/*\",\n",
    "    \"Accept-Language\": \"ru-RU,ru;q=0.8,en-US;q=0.5,en;q=0.3\",\n",
    "    \"User-Agent\": ua.chrome}"
   ]
  },
  {
   "cell_type": "code",
   "execution_count": null,
   "metadata": {},
   "outputs": [],
   "source": [
    "data_list = []"
   ]
  },
  {
   "cell_type": "code",
   "execution_count": null,
   "metadata": {},
   "outputs": [],
   "source": [
    "data_dict = {'data':data_list}"
   ]
  },
  {
   "cell_type": "code",
   "execution_count": null,
   "metadata": {},
   "outputs": [],
   "source": [
    "area = ['3&area=5', '&area=40', '&area=9', '&area=16', '&area=28', '&area=1001', '&area=48', '&area=97', '&area=113']\n",
    "experience = ['doesNotMatter', 'between3And6', 'between1And3', 'moreThan6', 'noExperience']\n",
    "\n",
    "# Выбираем регион поиска вакансий\n",
    "for place in area:\n",
    "    # Выбираем требуемый опыт работы\n",
    "    for work_exp in experience:\n",
    "\n",
    "        # Находим максимальное количество страниц, соответствующее запросу по ссылке\n",
    "        page_iter = 1\n",
    "        page_max = 0\n",
    "        while page_iter != 0:\n",
    "            url = f\"https://hh.ru/search/vacancy?no_magic=true&L_save_area=true&text=python+разработчик{place}&salary=&currency_code=RUR&experience={work_exp}&order_by=relevance&search_period=0&items_on_page=20&page={page_max}&hhtmFrom=vacancy_search_list\"\n",
    "            resp = req.get(url, headers=hdr)\n",
    "            soup = BeautifulSoup(resp.text, 'lxml')\n",
    "            next_button = soup.find(attrs={\"data-qa\":\"pager-next\"})\n",
    "            try:\n",
    "                button = str(next_button.text)\n",
    "            except:\n",
    "                button = 'null'\n",
    "                  \n",
    "            if button == 'дальше':\n",
    "                page_max += 1\n",
    "            else:\n",
    "                page_iter = 0\n",
    "            \n",
    "        # Перебираем страницы\n",
    "        for page in range(0, page_max+1):\n",
    "            url = f\"https://hh.ru/search/vacancy?no_magic=true&L_save_area=true&text=python+разработчик{place}&salary=&currency_code=RUR&experience={work_exp}&order_by=relevance&search_period=0&items_on_page=20&page={page}&hhtmFrom=vacancy_search_list\"\n",
    "            resp = req.get(url, headers=hdr)\n",
    "            soup = BeautifulSoup(resp.text, 'lxml')\n",
    "            tags = soup.find_all(class_='serp-item__title')\n",
    "            \n",
    "            # Собираем со страниц с подробным описанием вакансий необходимую информацию\n",
    "            for i in tags:\n",
    "                resp_object = req.get(i.attrs['href'], headers=hdr)\n",
    "                soup_object = BeautifulSoup(resp_object.text, 'lxml')\n",
    "                tag_price = soup_object.find(class_='bloko-header-section-2 bloko-header-section-2_lite')\n",
    "                tag_vacancy = soup_object.find(class_='vacancy-title')\n",
    "                tag_exp = soup_object.find(attrs={'data-qa':\"vacancy-experience\"})\n",
    "                tag_region = soup_object.find(attrs={'data-qa':\"vacancy-view-link-location\"})\n",
    "\n",
    "                try:\n",
    "                    region = tag_region.text\n",
    "                    price = tag_price.text\n",
    "                    vacancy = tag_vacancy.text\n",
    "                    exp = tag_exp.text\n",
    "                except:\n",
    "                    region = \"undefinite\"\n",
    "                    price = \"undefinite\"\n",
    "                    vacancy = \"undefinite\"\n",
    "                    exp = \"undefinite\"\n",
    "\n",
    "                if region == 'undefinite':\n",
    "                    tag_region = soup_object.find(attrs={'data-qa':\"vacancy-view-location\"})\n",
    "                if vacancy == 'undefinite':\n",
    "                    tag_vacancy = soup_object.find(class_='bloko-header-section-1')\n",
    "                if price == 'undefinite':\n",
    "                    tag_price = soup_object.find(class_='bloko-header-section-2 bloko-header-section-2_lite')\n",
    "                if exp == 'undefinite':\n",
    "                    tag_exp = soup_object.find(class_=\"vacancy-description-list-item\")\n",
    "\n",
    "                try:\n",
    "                    region = tag_region.text\n",
    "                except:\n",
    "                    region = \"undefinite\"\n",
    "                try:\n",
    "                    vacancy = tag_vacancy.text\n",
    "                except:\n",
    "                    vacancy = \"undefinite\"\n",
    "                try:\n",
    "                    price = tag_price.text\n",
    "                except:\n",
    "                    price = \"undefinite\"\n",
    "                try:\n",
    "                    exp = tag_exp.text\n",
    "                except:\n",
    "                    exp = \"undefinite\"\n",
    "\n",
    "                # Небольшая предобработка данных перед записью в json\n",
    "                salary = str(price)\n",
    "                salary = salary.replace('\\xa0', ' ')\n",
    "                vacancy = str(vacancy)\n",
    "                vacancy = vacancy.replace('\\xa0', ' ')\n",
    "                vacancy = vacancy.replace(salary, '')\n",
    "                region = region.split(',')\n",
    "                region = str(region[0])\n",
    "                exp = exp.replace('Требуемый опыт работы: ', '')\n",
    "\n",
    "                vacancy_dict = {'title':vacancy,\n",
    "                                'work experience':exp,\n",
    "                                'salary':salary,\n",
    "                                'region':region}\n",
    "                \n",
    "                if vacancy_dict not in data_list:\n",
    "                    data_list.append(vacancy_dict)\n",
    "\n",
    "                with open('parsed.json', 'w', encoding='utf8') as file:\n",
    "                    json.dump(data_dict, file, ensure_ascii=False, indent=4, sort_keys=False)"
   ]
  },
  {
   "cell_type": "markdown",
   "metadata": {},
   "source": [
    "## 2. Палиндром строки"
   ]
  },
  {
   "cell_type": "code",
   "execution_count": null,
   "metadata": {},
   "outputs": [],
   "source": [
    "phrase = str(input())\n",
    "p_list = list(phrase)\n",
    "if ' ' in p_list:\n",
    "    p_list.remove(' ')\n",
    "for i in p_list: \n",
    "    if i.isupper() == True or i.isnumeric() == True:\n",
    "        print('Допустимымы символами являются только пробелы и буквы в нижнем регистре')\n",
    "        break\n",
    "    else:\n",
    "        r_list = list(reversed(p_list))\n",
    "        r_list == p_list"
   ]
  },
  {
   "cell_type": "markdown",
   "metadata": {},
   "source": [
    "## 3. Перевод арабского числа в римское"
   ]
  },
  {
   "cell_type": "code",
   "execution_count": null,
   "metadata": {},
   "outputs": [],
   "source": [
    "def rome(number):\n",
    "    result = ''\n",
    "    numbers_dict = {1000:'M',\n",
    "                    900:'CM',\n",
    "                    500:'D',\n",
    "                    400:'CD',\n",
    "                    100:'C',\n",
    "                    90:'XC',\n",
    "                    50:'L',\n",
    "                    40:'XL',\n",
    "                    10:'X',\n",
    "                    9:'IX',\n",
    "                    5:'V',\n",
    "                    4:'IV',\n",
    "                    1:'I'}\n",
    "    x = number\n",
    "    if number < 0:\n",
    "        number *= -1\n",
    "    for arabic in numbers_dict:\n",
    "        # Получаем значение ключа\n",
    "        roman = numbers_dict[arabic]\n",
    "        ''' \n",
    "        Делим исходное число без остатка и умножаем \n",
    "        полученное значение на на римский аналог.\n",
    "        Записываем полученную комбинацию в переменную \n",
    "        result\n",
    "        '''\n",
    "        result += number // arabic * roman\n",
    "        ''' \n",
    "        Делим исходное число по модулю и в следующей \n",
    "        итерации проделываем то же самое с остатком\n",
    "        ''' \n",
    "        number %= arabic\n",
    "    if x < 0:\n",
    "        result = '-'+result\n",
    "    return result\n",
    "    "
   ]
  },
  {
   "cell_type": "markdown",
   "metadata": {},
   "source": [
    "## 4. Валидность скобок "
   ]
  },
  {
   "cell_type": "code",
   "execution_count": null,
   "metadata": {},
   "outputs": [],
   "source": [
    "def bkt_valid(string):\n",
    "    \n",
    "    if string == '':\n",
    "        string = 0\n",
    "        \n",
    "    value_list = list(str(string))\n",
    "    bkt_list = ['{', '[', '(', ')', ']', '}']\n",
    "    check = 1\n",
    "    \n",
    "    for i in value_list:\n",
    "        if i not in bkt_list or i == 0:\n",
    "            check = 0\n",
    "            print('error')\n",
    "        \n",
    "    if check == 1:\n",
    "        validator = 0\n",
    "        for bkt in value_list:\n",
    "            if bkt == '(' or bkt == '{' or bkt == '[':\n",
    "                validator += 1\n",
    "            if bkt == ')' or bkt == '}' or bkt == ']':\n",
    "                validator -= 1\n",
    "        if validator == 0:\n",
    "            valid = True\n",
    "        else:\n",
    "            valid = False\n",
    "        return valid"
   ]
  },
  {
   "cell_type": "markdown",
   "metadata": {},
   "source": [
    "## 5. Умножить два бинарных числа в формате строк"
   ]
  },
  {
   "cell_type": "code",
   "execution_count": null,
   "metadata": {},
   "outputs": [],
   "source": [
    "def binar_calc(x1, x2):\n",
    "    check = 1\n",
    "    error = \"Аргументами могут быть только положительные числа, содержащие 0 или 1.\"\n",
    "    num1 = 0\n",
    "    num2 = 0\n",
    "    \n",
    "    y1 = list(reversed(list(str(x1))))\n",
    "    y2 = list(reversed(list(str(x2)))) \n",
    "\n",
    "    for value in [y1, y2]:\n",
    "        for i in value:\n",
    "            if check == 1:\n",
    "                if int(i) >= 0 and int(i) <= 1:\n",
    "                    check = 1\n",
    "                else:\n",
    "                    check = 0\n",
    "                    \n",
    "    if check == 1:\n",
    "        index_list_1 = [i for i, e in enumerate(y1) if int(e) != 0]\n",
    "        index_list_2 = [i for i, e in enumerate(y2) if int(e) != 0]\n",
    "        for index in index_list_1:\n",
    "            num1 += 2**index\n",
    "        for index in index_list_2:\n",
    "            num2 += 2**index\n",
    "        result = num1 * num2\n",
    "        \n",
    "        x = result\n",
    "        multi_list = []\n",
    "        l = x\n",
    "        \n",
    "        while x > 0:\n",
    "            x = x // 2\n",
    "            y = l - x*2\n",
    "            l = x\n",
    "            multi_list.append(str(y))\n",
    "        multi_list = list(reversed(multi_list))\n",
    "        multi_list = ''.join(multi_list)\n",
    "        if result == 0:\n",
    "            multi_list = '0'\n",
    "        \n",
    "        print(f'Первое число в десятичной системе: {num1}')\n",
    "        print(f'Второе число в десятичной системе: {num2}')\n",
    "        print(f'Произведение чисел в десятичной системе: {result}')\n",
    "        print('-------------------')\n",
    "        print(f'Произведение чисел в двоичной системе: ' + multi_list)\n",
    "        return multi_list\n",
    "    else:\n",
    "        print(error)\n",
    "        "
   ]
  }
 ],
 "metadata": {
  "kernelspec": {
   "display_name": "Python 3 (ipykernel)",
   "language": "python",
   "name": "python3"
  },
  "language_info": {
   "codemirror_mode": {
    "name": "ipython",
    "version": 3
   },
   "file_extension": ".py",
   "mimetype": "text/x-python",
   "name": "python",
   "nbconvert_exporter": "python",
   "pygments_lexer": "ipython3",
   "version": "3.9.12"
  },
  "vscode": {
   "interpreter": {
    "hash": "d70e16a2347e8a9918903bf02469e7c5e466ed9041e3df84fa7172a15d610167"
   }
  }
 },
 "nbformat": 4,
 "nbformat_minor": 2
}
